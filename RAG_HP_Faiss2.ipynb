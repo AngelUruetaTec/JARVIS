{
  "cells": [
    {
      "cell_type": "code",
      "execution_count": 9,
      "id": "05f560fa",
      "metadata": {
        "id": "05f560fa"
      },
      "outputs": [],
      "source": [
        "!pip install langchain bitsandbytes accelerate langchain_community PyPDF opendatasets sentence-transformers --quiet"
      ]
    },
    {
      "cell_type": "code",
      "execution_count": 10,
      "id": "6ed67fce",
      "metadata": {
        "colab": {
          "base_uri": "https://localhost:8080/"
        },
        "id": "6ed67fce",
        "outputId": "89275a8a-ca5a-4030-bc8e-f4f6d90687ce"
      },
      "outputs": [
        {
          "output_type": "stream",
          "name": "stdout",
          "text": [
            "Requirement already satisfied: faiss-cpu in /usr/local/lib/python3.11/dist-packages (1.11.0)\n",
            "Requirement already satisfied: numpy<3.0,>=1.25.0 in /usr/local/lib/python3.11/dist-packages (from faiss-cpu) (2.0.2)\n",
            "Requirement already satisfied: packaging in /usr/local/lib/python3.11/dist-packages (from faiss-cpu) (24.2)\n"
          ]
        }
      ],
      "source": [
        "!pip install faiss-cpu"
      ]
    },
    {
      "cell_type": "code",
      "execution_count": 2,
      "id": "546a6290",
      "metadata": {
        "id": "546a6290"
      },
      "outputs": [],
      "source": [
        "from langchain.document_loaders import PyPDFLoader, DirectoryLoader\n",
        "\n",
        "from langchain.text_splitter import CharacterTextSplitter, RecursiveCharacterTextSplitter\n",
        "from langchain.embeddings import HuggingFaceEmbeddings\n",
        "from langchain.prompts import ChatPromptTemplate\n",
        "from langchain.vectorstores import FAISS\n",
        "\n",
        "from langchain import HuggingFaceHub\n",
        "from langchain_community.llms.huggingface_pipeline import HuggingFacePipeline\n",
        "from transformers import pipeline\n",
        "from transformers import AutoTokenizer, AutoModelForCausalLM, BitsAndBytesConfig\n",
        "from langchain.chains import RetrievalQA\n",
        "\n",
        "import os\n",
        "import torch\n",
        "import warnings\n",
        "warnings.filterwarnings(\"ignore\")"
      ]
    },
    {
      "cell_type": "code",
      "execution_count": 12,
      "id": "838dfc2c",
      "metadata": {
        "colab": {
          "base_uri": "https://localhost:8080/",
          "height": 35
        },
        "id": "838dfc2c",
        "outputId": "a1048f98-1d5c-42ea-9f88-72d1e0929c96"
      },
      "outputs": [
        {
          "output_type": "execute_result",
          "data": {
            "text/plain": [
              "'cuda'"
            ],
            "application/vnd.google.colaboratory.intrinsic+json": {
              "type": "string"
            }
          },
          "metadata": {},
          "execution_count": 12
        }
      ],
      "source": [
        "device = 'cuda' if torch.cuda.is_available() else 'cpu'\n",
        "\n",
        "device"
      ]
    },
    {
      "cell_type": "code",
      "execution_count": 4,
      "id": "3a18e191",
      "metadata": {
        "colab": {
          "base_uri": "https://localhost:8080/"
        },
        "id": "3a18e191",
        "outputId": "cbe82cdd-3a59-45fc-f747-f97e7ab6b0d5"
      },
      "outputs": [
        {
          "output_type": "stream",
          "name": "stdout",
          "text": [
            "PDF descargado correctamente.\n"
          ]
        }
      ],
      "source": [
        "import requests\n",
        "\n",
        "url = \"https://kvongcmehsanalibrary.wordpress.com/wp-content/uploads/2021/07/harrypotter.pdf\"\n",
        "pdf_path = \"harrypotter.pdf\"\n",
        "\n",
        "response = requests.get(url)\n",
        "with open(pdf_path, \"wb\") as f:\n",
        "    f.write(response.content)\n",
        "\n",
        "print(\"PDF descargado correctamente.\")"
      ]
    },
    {
      "cell_type": "code",
      "execution_count": 5,
      "id": "f62165f3",
      "metadata": {
        "colab": {
          "base_uri": "https://localhost:8080/"
        },
        "id": "f62165f3",
        "outputId": "8f4b086c-0c58-4f5b-d253-81e49b326689"
      },
      "outputs": [
        {
          "output_type": "execute_result",
          "data": {
            "text/plain": [
              "3604"
            ]
          },
          "metadata": {},
          "execution_count": 5
        }
      ],
      "source": [
        "pdf_loader = PyPDFLoader(pdf_path)\n",
        "\n",
        "pages = pdf_loader.load_and_split()  # separamos por páginas\n",
        "\n",
        "len(pages)"
      ]
    },
    {
      "cell_type": "code",
      "execution_count": 6,
      "id": "e6ea859c",
      "metadata": {
        "colab": {
          "base_uri": "https://localhost:8080/"
        },
        "id": "e6ea859c",
        "outputId": "6f1b455d-f8f1-4555-eb08-24e3a27a9595"
      },
      "outputs": [
        {
          "output_type": "stream",
          "name": "stdout",
          "text": [
            "page_content='CONTENTS Harry Potter and the Sorcerer’s Stone Harry Potter and the Chamber of Secrets Harry Potter and the Prisoner of Azkaban Harry Potter and the Goblet of Fire Harry Potter and the Order of the Phoenix Harry Potter and the Half-Blood Prince Harry Potter and the Deathly Hallows'\n"
          ]
        }
      ],
      "source": [
        "from langchain.schema import Document\n",
        "from langchain.text_splitter import RecursiveCharacterTextSplitter\n",
        "\n",
        "# Paso 1: Limpiar las páginas como antes\n",
        "clean_pages = []\n",
        "for page in pages:\n",
        "    text = page.page_content\n",
        "    clean_text = text.replace('\\t', ' ')\n",
        "    clean_text = clean_text.replace('\\n', ' ')\n",
        "    clean_text = ' '.join(clean_text.split())\n",
        "    clean_pages.append(Document(page_content=clean_text))\n",
        "# Ver ejemplo de la primera página ya limpia\n",
        "print(clean_pages[0])"
      ]
    },
    {
      "cell_type": "code",
      "execution_count": 7,
      "id": "269628e7",
      "metadata": {
        "id": "269628e7"
      },
      "outputs": [],
      "source": [
        "# Antes de pasar a la base de datos vectorial, dividimos el documento en fragmentos\n",
        "# \"pequeños\" o \"chunks\" en inglés. Esto para procesar y analizar mejor los documentos:\n",
        "\n",
        "text_splitter = RecursiveCharacterTextSplitter(\n",
        "                               chunk_size = 512,   # estos valores se pueden ajustar\n",
        "                               chunk_overlap  = 32,\n",
        "                               length_function = len,    # divide los chunks contando caracteres\n",
        "                               )\n",
        "\n",
        "chunks = text_splitter.split_documents(clean_pages)   # llevamos a cabo el proceso de fragmentación en chunks"
      ]
    },
    {
      "cell_type": "code",
      "execution_count": 8,
      "id": "3d0dc1d0",
      "metadata": {
        "colab": {
          "base_uri": "https://localhost:8080/"
        },
        "id": "3d0dc1d0",
        "outputId": "6b8a1574-96fb-41b2-ef8f-b7650e8bfbb1"
      },
      "outputs": [
        {
          "output_type": "execute_result",
          "data": {
            "text/plain": [
              "14622"
            ]
          },
          "metadata": {},
          "execution_count": 8
        }
      ],
      "source": [
        "len(chunks)"
      ]
    },
    {
      "cell_type": "code",
      "execution_count": 9,
      "id": "05487913",
      "metadata": {
        "colab": {
          "base_uri": "https://localhost:8080/",
          "height": 89
        },
        "id": "05487913",
        "outputId": "221f3225-e367-4d64-a21c-5593a9c8b2f6"
      },
      "outputs": [
        {
          "output_type": "execute_result",
          "data": {
            "text/plain": [
              "'an involuntary movement; for a fraction of a second, it seemed he expected to receive Voldemort’s wand in exchange for his own. The gesture was not missed by Voldemort, whose eyes widened maliciously. “Give you my wand, Lucius? My wand?” Some of the throng sniggered. “I have given you your liberty, Lucius, is that not enough for you? But I have noticed that you and your family seem less than happy of late. . . . What is it about my presence in your home that displeases you, Lucius?” “Nothing — nothing, my'"
            ],
            "application/vnd.google.colaboratory.intrinsic+json": {
              "type": "string"
            }
          },
          "metadata": {},
          "execution_count": 9
        }
      ],
      "source": [
        "chunks[12000].page_content"
      ]
    },
    {
      "cell_type": "markdown",
      "id": "a6447a0c",
      "metadata": {
        "id": "a6447a0c"
      },
      "source": [
        "## EMBEDINGS"
      ]
    },
    {
      "cell_type": "code",
      "execution_count": 10,
      "id": "ea70ddc3",
      "metadata": {
        "id": "ea70ddc3"
      },
      "outputs": [],
      "source": [
        "Embeddings = HuggingFaceEmbeddings(model_name=\"sentence-transformers/all-MiniLM-L6-v2\",\n",
        "                                   model_kwargs={'device': 'cuda' if torch.cuda.is_available() else 'cpu'}\n",
        "                                   )"
      ]
    },
    {
      "cell_type": "markdown",
      "id": "5ae5292b",
      "metadata": {
        "id": "5ae5292b"
      },
      "source": [
        "## VECTOR DATABASE"
      ]
    },
    {
      "cell_type": "code",
      "execution_count": 11,
      "id": "01252ba7",
      "metadata": {
        "id": "01252ba7"
      },
      "outputs": [],
      "source": [
        "# Obtenemos los vectores embebidos de cada chunk:\n",
        "\n",
        "store = FAISS.from_texts([str(chunk) for chunk in chunks], Embeddings)"
      ]
    },
    {
      "cell_type": "code",
      "execution_count": 12,
      "id": "df9f36a1",
      "metadata": {
        "colab": {
          "base_uri": "https://localhost:8080/"
        },
        "id": "df9f36a1",
        "outputId": "f69f5252-0da8-4aa5-975a-ee133984d4ad"
      },
      "outputs": [
        {
          "output_type": "stream",
          "name": "stdout",
          "text": [
            "384\n",
            "[-0.043303921818733215, 0.04168776422739029, -0.04757193103432655, -0.000875918020028621, -0.075721874833107, 0.062160514295101166, 0.00960005447268486, -0.005526233464479446, -0.030632710084319115, 0.0017973687499761581, -0.053954366594552994, 0.024333883076906204, -0.029157670214772224, -0.005653927102684975, -0.026795687153935432, -0.0697607547044754, 0.01364040281623602, 0.0425613597035408, 0.01729034073650837, -0.04206441342830658, 0.01768612489104271, -0.011606981046497822, 0.03144080564379692, -0.004370811861008406, -0.0014239456504583359, 0.01688431203365326, -0.0387699156999588, -0.004028604365885258, -0.07019447535276413, -0.09112319350242615, -0.07281717658042908, -0.02180464006960392, -0.07362427562475204, -0.03071080707013607, -0.05967538058757782, -0.04950997605919838, 0.05095882713794708, 0.028488650918006897, 0.0773603692650795, 0.008546852506697178, 0.013358998112380505, 0.024391883984208107, -0.0680253729224205, 0.1288420855998993, 0.005871805362403393, 0.012835397385060787, -0.050927381962537766, -0.06444737315177917, -0.07722888141870499, 0.038282573223114014, -0.03288671746850014, 0.06269743293523788, -0.07472827285528183, 0.0367310531437397, 0.04481416568160057, -0.04916955530643463, -0.019110234454274178, 0.011436224915087223, 0.009252892807126045, -0.026339497417211533, -0.017947625368833542, -0.07831624895334244, -0.039639148861169815, 0.07835949212312698, -0.047324176877737045, -0.08989973366260529, -0.0037015120033174753, 0.0641518086194992, -0.0012918655993416905, -0.08416549861431122, -0.050558727234601974, -0.0023403847590088844, 0.050470542162656784, -0.055553875863552094, 0.0030955106485635042, -0.001366513897664845, -0.09549134969711304, -0.06381729990243912, -0.08596625924110413, -0.07385258376598358, 0.027428334578871727, -0.048459243029356, -0.005510277114808559, 0.03395479917526245, -0.06382142752408981, -0.03632187843322754, -0.005015002563595772, -0.026811446994543076, -0.09389547258615494, 0.009389526210725307, 0.0677502378821373, -0.0016021918272599578, 0.07184641063213348, 0.06654193997383118, 0.02448214590549469, 0.06526831537485123, 0.02606400102376938, -0.01267645601183176, -0.009670574218034744, 0.024880269542336464, 0.03481842204928398, -0.021711129695177078, 0.054593876004219055, 0.0010856996523216367, 2.5178605937981047e-05, -0.08353915065526962, -0.0026821016799658537, -0.07016339153051376, 0.002497031819075346, -0.034516043961048126, -0.04586852714419365, -0.03734720125794411, -0.0453212708234787, -0.08301114290952682, 0.07652054727077484, -0.0035511201713234186, 0.07448143512010574, 0.07369989156723022, -0.00636945478618145, 0.04437093809247017, 0.012736175209283829, 0.06614556163549423, 0.018100963905453682, -0.022127298638224602, -0.05908595398068428, -0.0073898169212043285, -0.06675601005554199, 1.5638743782561096e-33, -0.002667543478310108, -0.024791616946458817, -0.07101592421531677, 0.07396002113819122, -0.015390807762742043, 0.001422678935341537, -0.002471362240612507, -0.016520323231816292, -0.029230177402496338, -0.006248352117836475, 0.022932402789592743, -0.004209684208035469, -0.11200671643018723, -0.06443218141794205, -0.032366521656513214, 0.04674164578318596, -0.09254631400108337, 0.036238186061382294, -0.0006673713214695454, -0.03664880618453026, 0.00048428025911562145, 0.0461125522851944, -0.017786605283617973, 0.06406964361667633, 0.0043699671514332294, 0.03090248815715313, -0.04898277670145035, -0.04284438490867615, -0.06913451105356216, 0.004489662125706673, -0.0018880108837038279, -0.01856376975774765, 0.00849514827132225, -0.11168676614761353, -0.054368287324905396, -0.04420704022049904, -0.008085246197879314, -0.07437684386968613, 0.08773808181285858, -0.0075310152024030685, -0.019101709127426147, -0.035603687167167664, 0.007152908947318792, -0.029786575585603714, -0.01807938888669014, 0.07791780680418015, -0.03010215051472187, 0.04559137299656868, 0.03850822150707245, 0.05791207775473595, -0.045404158532619476, -0.01672949641942978, -0.03049774467945099, 0.009913970716297626, -0.04475826025009155, 0.005097325425595045, -0.07056202739477158, -0.0011585255851969123, 0.06200730800628662, 0.024269983172416687, 0.04968550428748131, 0.09664154797792435, 0.041941553354263306, 0.007193360943347216, 0.007725509349256754, 0.03751819208264351, -0.019809041172266006, -0.06178896501660347, -0.043924152851104736, -0.027410881593823433, -0.1326301097869873, 0.010983544401824474, 0.0532153844833374, -0.05882313847541809, -0.0015870435163378716, -0.0437123104929924, 0.029429176822304726, -0.030779831111431122, -0.11179006844758987, -0.048216693103313446, 0.0174193624407053, 0.01953086629509926, 0.0022347199264913797, 0.04493147134780884, -0.00225401041097939, -0.04057097062468529, 0.013426905497908592, -0.07184897363185883, 0.012566163204610348, -0.005087478552013636, 0.044010140001773834, -0.03850388899445534, 0.03299057111144066, -0.045173078775405884, 0.06620007008314133, -4.005340145399507e-33, 0.05769851431250572, -0.08118923753499985, 0.008363255299627781, -0.00800146721303463, 0.05551368370652199, 0.05915245786309242, -0.11949410289525986, 0.004005223046988249, 0.038375671952962875, 0.04937436804175377, -0.09351880103349686, 0.06100864335894585, 0.08291944116353989, -0.01515719760209322, -0.002177222166210413, -0.040858373045921326, 0.0916537418961525, -0.03304405137896538, 0.03826233744621277, 0.04767753183841705, -0.0052772765047848225, 0.03819158300757408, -0.10107675194740295, -0.038228824734687805, 0.11101163178682327, 0.045722682029008865, 0.008615574799478054, -0.06143377348780632, 0.013768013566732407, 0.0306467916816473, 0.07088173925876617, -0.0066256229765713215, 0.01725061424076557, -0.004679308272898197, -0.06614965200424194, -0.07255354523658752, 0.10233061760663986, -0.03181566670536995, -0.038262393325567245, -0.06526641547679901, 0.09874891489744186, -0.009762120433151722, 0.01963339000940323, 0.03743010386824608, 0.016434622928500175, -0.020831452682614326, 0.009433742612600327, 0.06933379918336868, -0.02149568684399128, 0.0237693190574646, -0.0005258894525468349, -0.028499213978648186, -0.050471361726522446, -0.027793141081929207, 0.045015715062618256, 0.031238658353686333, -0.04619861766695976, 0.019964691251516342, 0.07169557362794876, -0.041315607726573944, -0.12809208035469055, 0.048571523278951645, -0.047493115067481995, 0.031246664002537727, -0.061803821474313736, -0.009691142477095127, -0.02021297812461853, -0.010076024569571018, 0.028785118833184242, -0.0768188014626503, -0.04896920546889305, 0.007716734427958727, -0.023270629346370697, -0.016562653705477715, 0.046278856694698334, 0.11127809435129166, 0.05518965795636177, 0.04500948265194893, 0.03791414573788643, 0.013922139070928097, 0.04561247676610947, 0.13079437613487244, -0.029036372900009155, 0.016787713393568993, 0.12751978635787964, 0.016803216189146042, 0.04409926384687424, 0.05149196833372116, -0.017363999038934708, -0.05149898678064346, 0.07748466730117798, -0.0004016878956463188, 0.08680544793605804, 0.02487470954656601, 0.08388716727495193, -3.497773803928794e-08, 0.0130613399669528, -0.0034151384606957436, -0.005715020000934601, 0.00707867881283164, 0.04504644498229027, -0.0029598770197480917, 0.0637344941496849, 0.12350200116634369, -0.03240593522787094, 0.08438556641340256, 0.0893796905875206, 0.0017324114451184869, 0.024137578904628754, -0.015916021540760994, 0.05303226783871651, 0.03128909692168236, 0.03077051043510437, -0.04334922507405281, -0.009136236272752285, 0.019598016515374184, 0.015312139876186848, -0.06024756655097008, 0.0953984186053276, -0.0027648177929222584, -0.011568867601454258, 0.05167475342750549, 0.008302849717438221, -0.13574452698230743, 0.06528214365243912, 0.09018666297197342, 0.07381786406040192, -0.04621393233537674, 0.014747478999197483, -0.04122205823659897, -0.052484896034002304, -0.0012180301127955317, 0.004111056681722403, -0.0067876907996833324, 0.019473005086183548, -0.018720965832471848, 0.027966227382421494, -0.14997950196266174, 0.034712452441453934, 0.044509485363960266, -0.04095184803009033, -0.0480317585170269, -0.04875466972589493, -0.053011856973171234, 0.026412174105644226, -0.07285814732313156, -0.05368766188621521, -0.001454680459573865, 0.09102161973714828, -0.016139937564730644, 0.07889352738857269, 0.06323906034231186, 0.04184851050376892, 0.11099820584058762, -0.02963661402463913, -0.024511439725756645, 0.08404060453176498, 0.06801745295524597, 0.006585364695638418, 0.044239334762096405]\n"
          ]
        }
      ],
      "source": [
        "# veamos uno de los vectores embebidos:\n",
        "\n",
        "print(len(store.embeddings.embed_query(chunks[0].page_content)))\n",
        "\n",
        "print(store.embeddings.embed_query(chunks[0].page_content))"
      ]
    },
    {
      "cell_type": "code",
      "execution_count": 13,
      "id": "f794d64f",
      "metadata": {
        "id": "f794d64f"
      },
      "outputs": [],
      "source": [
        "question = \"\"\"\n",
        "¿who is dumbledore?\n",
        "\"\"\"\n",
        "\n",
        "docs = store.similarity_search(question, k = 3)"
      ]
    },
    {
      "cell_type": "code",
      "execution_count": 14,
      "id": "fd63d783",
      "metadata": {
        "colab": {
          "base_uri": "https://localhost:8080/",
          "height": 89
        },
        "id": "fd63d783",
        "outputId": "b07b3861-bfa6-4703-af32-08d6eebecc6a"
      },
      "outputs": [
        {
          "output_type": "execute_result",
          "data": {
            "text/plain": [
              "\"page_content='Then she said, “He’s a funny boy.” “Yes,” said Dumbledore. “I thought he might be.” “He was a funny baby too. He hardly ever cried, you know. And then, when he got a little older, he was . . . odd.” “Odd in what way?” asked Dumbledore gently. “Well, he —” But Mrs. Cole pulled up short, and there was nothing blurry or vague about the inquisitorial glance she shot Dumbledore over her gin glass. “He’s definitely got a place at your school, you say?” “Definitely,” said Dumbledore. “And nothing I say can change'\""
            ],
            "application/vnd.google.colaboratory.intrinsic+json": {
              "type": "string"
            }
          },
          "metadata": {},
          "execution_count": 14
        }
      ],
      "source": [
        "docs[2].page_content"
      ]
    },
    {
      "cell_type": "markdown",
      "id": "bb37f014",
      "metadata": {
        "id": "bb37f014"
      },
      "source": [
        "## RAG"
      ]
    },
    {
      "cell_type": "code",
      "execution_count": 15,
      "id": "0f8a4ea1",
      "metadata": {
        "id": "0f8a4ea1"
      },
      "outputs": [],
      "source": [
        "from huggingface_hub import login\n",
        "from google.colab import userdata\n"
      ]
    },
    {
      "cell_type": "code",
      "execution_count": 28,
      "id": "9a304bfd",
      "metadata": {
        "id": "9a304bfd"
      },
      "outputs": [],
      "source": [
        "login(userdata.get('HF_TOKEN_TEC'))"
      ]
    },
    {
      "cell_type": "code",
      "execution_count": 16,
      "id": "61e49552",
      "metadata": {
        "colab": {
          "base_uri": "https://localhost:8080/",
          "height": 35
        },
        "id": "61e49552",
        "outputId": "32e7a695-6076-4e59-c077-cdb573f5ca2e"
      },
      "outputs": [
        {
          "output_type": "execute_result",
          "data": {
            "text/plain": [
              "'cuda'"
            ],
            "application/vnd.google.colaboratory.intrinsic+json": {
              "type": "string"
            }
          },
          "metadata": {},
          "execution_count": 16
        }
      ],
      "source": [
        "device = \"cuda\" if torch.cuda.is_available() else \"cpu\"\n",
        "device"
      ]
    },
    {
      "cell_type": "code",
      "source": [
        "# de nuevo los parámetros de la configuración de cuantización 4-bit:\n",
        "bnb_config = BitsAndBytesConfig(\n",
        "    load_in_4bit=True,\n",
        "    bnb_4bit_quant_type=\"nf4\",\n",
        "    bnb_4bit_use_double_quant=True,\n",
        "    bnb_4bit_compute_dtype=torch.bfloat16\n",
        ")"
      ],
      "metadata": {
        "id": "uCwm2nAfrvSz"
      },
      "id": "uCwm2nAfrvSz",
      "execution_count": 33,
      "outputs": []
    },
    {
      "cell_type": "code",
      "source": [
        "# cargamos el tokenizador y el modelo, en este caso de Mistral:\n",
        "\n",
        "tokenizer = AutoTokenizer.from_pretrained(\"mistralai/Mistral-7B-Instruct-v0.3\")\n",
        "\n",
        "model = AutoModelForCausalLM.from_pretrained(\"mistralai/Mistral-7B-Instruct-v0.3\",     # tarda unos 9 mins con gpu\n",
        "                                             quantization_config = bnb_config\n",
        "                                             )"
      ],
      "metadata": {
        "colab": {
          "base_uri": "https://localhost:8080/",
          "height": 273,
          "referenced_widgets": [
            "bf3a497a58e940a7857ef427ca50fced",
            "2bf6fe2579104dcda5c2d9a83abf0f17",
            "efd1567b6ef84f04a33d7d8b94fb6755",
            "b458f56bae57407baac992d01cc719d7",
            "5e0fc555ab4b4e55bc71b5498bf8d92e",
            "381cf2dc4ee64c93a188ac5372e29790",
            "7a886abc937649ea98f9533079256841",
            "f5164c59d77445dba9c19949b79b2249",
            "5c9c6d38374f4a4ea631b57552a19b6f",
            "35b52b538e5246beb85addd3a6bef7de",
            "4204e6454d9b450bb393ba1f12660b8c",
            "e418363613bd4bad9b7950da4683d201",
            "a55c41f3a780445fa16c5559973762e2",
            "d9ac5db99fe844f3923850e191249e92",
            "90dcfa05740c4aceb93f442769faf9bc",
            "8b1f0dff8104497aaf7d3aa8a78344c7",
            "2f82a2c1544947aeb83878124c6e2ca8",
            "e5e375e34dce4ac684e6f81151d122b3",
            "98ac39bfce0c42458826a5b2355be46a",
            "1cab08b8d3ac4d41b019c3b655ba0a74",
            "506d294c7e3f42a9892b112a092f2ebd",
            "52bfa64b09864b72b3dac24e6aca6303",
            "f03553f6fe5f4b45958c0efb0fbf6866",
            "aa3aa8dd0f3448ab9021d98522e5de42",
            "11f91bd23a8542ad8c89f7743263beb3",
            "259abc4cc3784fb49e0ef6631b4aa35b",
            "d8e0453f4be348a78234e0f379ce4609",
            "cfd91e6b60a649f3ad83c6d77805da39",
            "2c8da49d77034ccaa40f96bd2000bff4",
            "08d324a7465c473bb4c6298aa1946671",
            "af5cd43b5e6b4c8eb783f5c470811030",
            "dc8269a26dfb464d9a1723a780d729ce",
            "c9db3fad9f16466095832824d88a4cb2",
            "7abe37889e1644f4b0ac3fadc87bcad3",
            "93b6ec218aa14da59b3cf1c4b3376a57",
            "8e61cb731dd14effaeac9d75b64f9f60",
            "91c9ce29f93b450990cad7f9062bb6b6",
            "61c0958d445347a089b525838c846752",
            "3bc77f8bdde3460d96c3804ca1f0839a",
            "c48c194b89a04d4d9aeed7a83f65aa90",
            "e6760dc3237043b09c8b6eb555f88f90",
            "9c4c505d4f2d4a58b2c766abc9a1dd06",
            "45420afc795b40e09a5ceb2afa37b775",
            "9b7401fcc8544015994efc219db66049",
            "651e869760cc4855a5543816a50d3f2e",
            "a3fe2e1404a24f4786efd862a34fc785",
            "c9eec127a4bb45cca638568571f75356",
            "e891194c06d2491da80c807578220f8c",
            "8609b171988a4540970f2183344e3572",
            "64fff3c4b08d437fb7dafc2fb2393b9e",
            "4fdad46e4cea403fa8b44a69e968970e",
            "a6e63d0c3bc34f41b6666c16866fc899",
            "deed180ebb4c4633aaec178a8a6c3472",
            "bc361487edc044459d90f5ab647ca179",
            "2b7bc32da2ef416fa084a605690649b7",
            "3df4bc232b5441a0ad645cefc7e0fb67",
            "d5962be33c52479bada5411b029958c3",
            "d2bf45b3305d492f8f52422bb362427b",
            "b365222f998c4a9e8fc40f02e77c1adb",
            "3940719fe6184f148b56d17d699154ef",
            "ecb29ba9898a46cc95930a969a4b559b",
            "630131a1892d4ab98c23d31794155016",
            "4f76b57c857e4aa6a262be5adbd85609",
            "aee144feeab345f1a22c5653cca69cd3",
            "68df4d7ba06a411c85136d88bedba685",
            "e7c76a07130b4a379d77ef70286405db",
            "6542bd6a995347bda54bc4ca2c61b336",
            "625765d76d85414b87ea9e763ec422b1",
            "b64eac290b1e4965add7be9803617195",
            "b6eefb29808b4f97addfee9890a8a04b",
            "f7e698e132ed4ca18f8926de135ce123",
            "8d34f5387d6c40abaa226dae1a6ff8a3",
            "2aba24b051da47d5a695c66316473000",
            "30e9a5496c974f3dae6dada721e23868",
            "070b5691b2f946e880b428473826378a",
            "3a63979faacc4f68b610b4f9407ea846",
            "fdf828e15afc4bcaaf0b30ad9f64f41a",
            "731b50c6ed6a41b1811181add331eeb6",
            "cdf2861f39f3400cbc951f8b35272e9a",
            "081402813bdf469ea1503dff9d1f9ce7",
            "d256e3128c674d93871a084dca558c80",
            "85fddb5a55f2488099a55507373a65cf",
            "675fa268c96840b099d577e6dde48c32",
            "4c5f5ceec751439d8f220b4bb47de5c2",
            "e136f5d9855b4dc5b1fedd698ccc1b33",
            "301b76e5c12d450fa51e7ba5c871e6f2",
            "6ea8fcf213ff4f94b4ed0e9a55517a3d",
            "f647db1fd6664cbaafff12ea4eb3b801"
          ]
        },
        "id": "MaLyDNg9ruQN",
        "outputId": "edcf3da1-f274-4ccd-d047-d13d965abdc0"
      },
      "id": "MaLyDNg9ruQN",
      "execution_count": 34,
      "outputs": [
        {
          "output_type": "display_data",
          "data": {
            "text/plain": [
              "config.json:   0%|          | 0.00/601 [00:00<?, ?B/s]"
            ],
            "application/vnd.jupyter.widget-view+json": {
              "version_major": 2,
              "version_minor": 0,
              "model_id": "bf3a497a58e940a7857ef427ca50fced"
            }
          },
          "metadata": {}
        },
        {
          "output_type": "display_data",
          "data": {
            "text/plain": [
              "model.safetensors.index.json:   0%|          | 0.00/23.9k [00:00<?, ?B/s]"
            ],
            "application/vnd.jupyter.widget-view+json": {
              "version_major": 2,
              "version_minor": 0,
              "model_id": "e418363613bd4bad9b7950da4683d201"
            }
          },
          "metadata": {}
        },
        {
          "output_type": "display_data",
          "data": {
            "text/plain": [
              "Fetching 3 files:   0%|          | 0/3 [00:00<?, ?it/s]"
            ],
            "application/vnd.jupyter.widget-view+json": {
              "version_major": 2,
              "version_minor": 0,
              "model_id": "f03553f6fe5f4b45958c0efb0fbf6866"
            }
          },
          "metadata": {}
        },
        {
          "output_type": "display_data",
          "data": {
            "text/plain": [
              "model-00002-of-00003.safetensors:   0%|          | 0.00/5.00G [00:00<?, ?B/s]"
            ],
            "application/vnd.jupyter.widget-view+json": {
              "version_major": 2,
              "version_minor": 0,
              "model_id": "7abe37889e1644f4b0ac3fadc87bcad3"
            }
          },
          "metadata": {}
        },
        {
          "output_type": "display_data",
          "data": {
            "text/plain": [
              "model-00001-of-00003.safetensors:   0%|          | 0.00/4.95G [00:00<?, ?B/s]"
            ],
            "application/vnd.jupyter.widget-view+json": {
              "version_major": 2,
              "version_minor": 0,
              "model_id": "651e869760cc4855a5543816a50d3f2e"
            }
          },
          "metadata": {}
        },
        {
          "output_type": "display_data",
          "data": {
            "text/plain": [
              "model-00003-of-00003.safetensors:   0%|          | 0.00/4.55G [00:00<?, ?B/s]"
            ],
            "application/vnd.jupyter.widget-view+json": {
              "version_major": 2,
              "version_minor": 0,
              "model_id": "3df4bc232b5441a0ad645cefc7e0fb67"
            }
          },
          "metadata": {}
        },
        {
          "output_type": "display_data",
          "data": {
            "text/plain": [
              "Loading checkpoint shards:   0%|          | 0/3 [00:00<?, ?it/s]"
            ],
            "application/vnd.jupyter.widget-view+json": {
              "version_major": 2,
              "version_minor": 0,
              "model_id": "6542bd6a995347bda54bc4ca2c61b336"
            }
          },
          "metadata": {}
        },
        {
          "output_type": "display_data",
          "data": {
            "text/plain": [
              "generation_config.json:   0%|          | 0.00/116 [00:00<?, ?B/s]"
            ],
            "application/vnd.jupyter.widget-view+json": {
              "version_major": 2,
              "version_minor": 0,
              "model_id": "731b50c6ed6a41b1811181add331eeb6"
            }
          },
          "metadata": {}
        }
      ]
    },
    {
      "cell_type": "code",
      "execution_count": 17,
      "id": "fe54d53f",
      "metadata": {
        "id": "fe54d53f"
      },
      "outputs": [],
      "source": [
        "\n",
        "# Load model directly\n",
        "#from transformers import AutoTokenizer, AutoModelForSeq2SeqLM\n",
        "\n",
        "#tokenizer = AutoTokenizer.from_pretrained(\"google/flan-t5-base\")\n",
        "#model = AutoModelForSeq2SeqLM.from_pretrained(\"google/flan-t5-base\")"
      ]
    },
    {
      "cell_type": "code",
      "source": [
        "# Creamos el Pipeline de HF:\n",
        "\n",
        "pipe = pipeline(\"text-generation\",   # tipo de modelo utilizado\n",
        "                model=model,    # debemos cargar el modelo cuantizado y no el original\n",
        "                tokenizer=tokenizer,    # los tokens embebidos\n",
        "                max_new_tokens=300      # puedes ajustar la salida al tamaño deseado de tokens\n",
        "                )\n",
        "\n",
        "\n",
        "# Y ahora lo trasladamos al Pipeline de LangChain:\n",
        "hf = HuggingFacePipeline(pipeline=pipe)"
      ],
      "metadata": {
        "colab": {
          "base_uri": "https://localhost:8080/"
        },
        "id": "Ng44gNeKk2-Z",
        "outputId": "a6f20cb6-2425-484f-c9b8-e14991240d4d"
      },
      "id": "Ng44gNeKk2-Z",
      "execution_count": 45,
      "outputs": [
        {
          "output_type": "stream",
          "name": "stderr",
          "text": [
            "Device set to use cuda:0\n"
          ]
        }
      ]
    },
    {
      "cell_type": "code",
      "source": [
        "# usamos el template de Langchain para definir el prompt:\n",
        "from langchain.prompts import PromptTemplate\n",
        "\n",
        "prompt = PromptTemplate(\n",
        "    input_variables=[\"context\", \"question\"],\n",
        "    template=\"\"\"Using the following context information provide the response to the question.\n",
        "\n",
        "Context:\n",
        "{context}\n",
        "\n",
        "Question:\n",
        "{question}\n",
        "\n",
        "Response:\n",
        "\"\"\"\n",
        ")"
      ],
      "metadata": {
        "id": "H3Ke303sk6_J"
      },
      "id": "H3Ke303sk6_J",
      "execution_count": 46,
      "outputs": []
    },
    {
      "cell_type": "code",
      "source": [
        "# Como lo estamos haciendo un problema tipo Q&A, usamos entonces el método que\n",
        "# tiene LangChain para estos caso, RetrievalQAs:\n",
        "\n",
        "qa_chain = RetrievalQA.from_chain_type(llm=hf,   # Este ya es todo el modelo cuantizado y preparado en formato LangChain\n",
        "                                       retriever = store.as_retriever(search_kwargs={'k': 3}),   # Este es el espacio de búsqueda, la base de datos vectorial\n",
        "                                       return_source_documents=True,   # para que también devuelva de dónde obtiene la información.\n",
        "                                       chain_type_kwargs={'prompt': prompt}\n",
        "                                       )"
      ],
      "metadata": {
        "id": "kv3ybt3Ik_If"
      },
      "id": "kv3ybt3Ik_If",
      "execution_count": 53,
      "outputs": []
    },
    {
      "cell_type": "code",
      "source": [
        "pregunta = \"¿Who is albus dumbledore?\"\n",
        "\n",
        "respuesta = qa_chain({\"query\": pregunta})\n",
        "\n",
        "print(respuesta[\"result\"])"
      ],
      "metadata": {
        "colab": {
          "base_uri": "https://localhost:8080/"
        },
        "id": "k8mlINO7lKeO",
        "outputId": "23c247ac-9244-4e43-f36c-eb68e0724620"
      },
      "id": "k8mlINO7lKeO",
      "execution_count": 54,
      "outputs": [
        {
          "output_type": "stream",
          "name": "stderr",
          "text": [
            "Setting `pad_token_id` to `eos_token_id`:2 for open-end generation.\n"
          ]
        },
        {
          "output_type": "stream",
          "name": "stdout",
          "text": [
            "Using the following context information provide the response to the question.\n",
            "\n",
            "Context:\n",
            "page_content='Nothing like this man had ever been seen on Privet Drive. He was tall, thin, and very old, judging by the silver of his hair and beard, which were both long enough to tuck into his belt. He was wearing long robes, a purple cloak that swept the ground, and high-heeled, buckled boots. His blue eyes were light, bright, and sparkling behind half-moon spectacles and his nose was very long and crooked, as though it had been broken at least twice. This man’s name was Albus Dumbledore. Albus Dumbledore didn’t seem'\n",
            "\n",
            "page_content='jackets and had identical, shoulder-length hairstyles. Albus looked several years older, but otherwise the two boys looked very alike, for this was before Albus’s nose had been broken and before he started wearing glasses. The family looked quite happy and normal, smiling serenely up out of the newspaper. Baby Ariana’s arm waved vaguely out of her shawl. Harry looked above the picture and saw the headline: EXCLUSIVE EXTRACT FROM THE UPCOMING BIOGRAPHY OF ALBUS DUMBLEDORE by Rita Skeeter Thinking that it'\n",
            "\n",
            "page_content='flowing silver hair, beard, and mustache. Underneath the picture was the name Albus Dumbledore. “So this is Dumbledore!” said Harry. “Don’t tell me you’d never heard of Dumbledore!” said Ron. “Can I have a frog? I might get Agrippa — thanks —” Harry turned over his card and read: ALBUS DUMBLEDORE CURRENTLY HEADMASTER OF HOGWARTS C onsidered by many the greatest wizard of modern times, Dumbledore is particularly famous for his defeat of the Dark wizard Grindelwald in 1945, for the discovery of the twelve'\n",
            "\n",
            "Question:\n",
            "¿Who is albus dumbledore?\n",
            "\n",
            "Response:\n",
            " Albus Dumbledore is currently the headmaster of Hogwarts and is considered by many the greatest wizard of modern times. He is famous for his defeat of the Dark wizard Grindelwald in 1945, and for the discovery of the twelve uses of dragon heartstring.\n"
          ]
        }
      ]
    },
    {
      "cell_type": "code",
      "source": [
        "import ipywidgets as widgets\n",
        "from IPython.display import display\n",
        "\n",
        "input_box = widgets.Text(\n",
        "    value='',\n",
        "    placeholder='Ask a question about Harry Potter...',\n",
        "    description='You:',\n",
        "    disabled=False,\n",
        "    layout=widgets.Layout(width='100%')\n",
        ")\n",
        "\n",
        "send_button = widgets.Button(\n",
        "    description=\"Send\",\n",
        "    button_style='primary'\n",
        ")\n",
        "\n",
        "output_area = widgets.Output()\n",
        "\n",
        "def on_send_clicked(b):\n",
        "    with output_area:\n",
        "        user_input = input_box.value\n",
        "        if not user_input.strip():\n",
        "            print(\"Please enter a question.\")\n",
        "            return\n",
        "\n",
        "        print(f\"You: {user_input}\")\n",
        "        response = qa_chain({\"query\": user_input})\n",
        "        response_string = response[\"result\"]\n",
        "        print(f\"Bot: {response_string}\\n\")\n",
        "        input_box.value = \"\"\n",
        "\n",
        "send_button.on_click(on_send_clicked)\n",
        "\n",
        "display(input_box, send_button, output_area)"
      ],
      "metadata": {
        "colab": {
          "base_uri": "https://localhost:8080/",
          "height": 1000,
          "referenced_widgets": [
            "ff13a19084864a409de04bd3d67d1e0e",
            "c4fda4d628d04ae3b7967bbba521161d",
            "e3b180e93dfc46659e9f5167c722d4a1",
            "31bbf0a2fe704bfaae91cc734233ac10",
            "5eb28728bd6a4475887c34d562b1239c",
            "a4d6443ee4ad4050a2159524c8fdba08",
            "79b76be2e6384033ab89a1eacfe6baad",
            "e3df22c1cfc04d5ba6db63b17094d0f1"
          ]
        },
        "id": "3tTKWjpDuwCs",
        "outputId": "20840f4f-2d19-4228-e5e4-eb4b64c0ebd2"
      },
      "id": "3tTKWjpDuwCs",
      "execution_count": 55,
      "outputs": [
        {
          "output_type": "display_data",
          "data": {
            "text/plain": [
              "Text(value='', description='You:', layout=Layout(width='100%'), placeholder='Ask a question about Harry Potter…"
            ],
            "application/vnd.jupyter.widget-view+json": {
              "version_major": 2,
              "version_minor": 0,
              "model_id": "ff13a19084864a409de04bd3d67d1e0e"
            }
          },
          "metadata": {}
        },
        {
          "output_type": "display_data",
          "data": {
            "text/plain": [
              "Button(button_style='primary', description='Send', style=ButtonStyle())"
            ],
            "application/vnd.jupyter.widget-view+json": {
              "version_major": 2,
              "version_minor": 0,
              "model_id": "31bbf0a2fe704bfaae91cc734233ac10"
            }
          },
          "metadata": {}
        },
        {
          "output_type": "display_data",
          "data": {
            "text/plain": [
              "Output()"
            ],
            "application/vnd.jupyter.widget-view+json": {
              "version_major": 2,
              "version_minor": 0,
              "model_id": "79b76be2e6384033ab89a1eacfe6baad"
            }
          },
          "metadata": {}
        }
      ]
    }
  ],
  "metadata": {
    "kernelspec": {
      "display_name": "Python 3",
      "name": "python3"
    },
    "language_info": {
      "codemirror_mode": {
        "name": "ipython",
        "version": 3
      },
      "file_extension": ".py",
      "mimetype": "text/x-python",
      "name": "python",
      "nbconvert_exporter": "python",
      "pygments_lexer": "ipython3",
      "version": "3.12.9"
    },
    "colab": {
      "provenance": [],
      "gpuType": "T4"
    },
    "accelerator": "GPU",
    "widgets": {
      "application/vnd.jupyter.widget-state+json": {
        "bf3a497a58e940a7857ef427ca50fced": {
          "model_module": "@jupyter-widgets/controls",
          "model_name": "HBoxModel",
          "model_module_version": "1.5.0",
          "state": {
            "_dom_classes": [],
            "_model_module": "@jupyter-widgets/controls",
            "_model_module_version": "1.5.0",
            "_model_name": "HBoxModel",
            "_view_count": null,
            "_view_module": "@jupyter-widgets/controls",
            "_view_module_version": "1.5.0",
            "_view_name": "HBoxView",
            "box_style": "",
            "children": [
              "IPY_MODEL_2bf6fe2579104dcda5c2d9a83abf0f17",
              "IPY_MODEL_efd1567b6ef84f04a33d7d8b94fb6755",
              "IPY_MODEL_b458f56bae57407baac992d01cc719d7"
            ],
            "layout": "IPY_MODEL_5e0fc555ab4b4e55bc71b5498bf8d92e"
          }
        },
        "2bf6fe2579104dcda5c2d9a83abf0f17": {
          "model_module": "@jupyter-widgets/controls",
          "model_name": "HTMLModel",
          "model_module_version": "1.5.0",
          "state": {
            "_dom_classes": [],
            "_model_module": "@jupyter-widgets/controls",
            "_model_module_version": "1.5.0",
            "_model_name": "HTMLModel",
            "_view_count": null,
            "_view_module": "@jupyter-widgets/controls",
            "_view_module_version": "1.5.0",
            "_view_name": "HTMLView",
            "description": "",
            "description_tooltip": null,
            "layout": "IPY_MODEL_381cf2dc4ee64c93a188ac5372e29790",
            "placeholder": "​",
            "style": "IPY_MODEL_7a886abc937649ea98f9533079256841",
            "value": "config.json: 100%"
          }
        },
        "efd1567b6ef84f04a33d7d8b94fb6755": {
          "model_module": "@jupyter-widgets/controls",
          "model_name": "FloatProgressModel",
          "model_module_version": "1.5.0",
          "state": {
            "_dom_classes": [],
            "_model_module": "@jupyter-widgets/controls",
            "_model_module_version": "1.5.0",
            "_model_name": "FloatProgressModel",
            "_view_count": null,
            "_view_module": "@jupyter-widgets/controls",
            "_view_module_version": "1.5.0",
            "_view_name": "ProgressView",
            "bar_style": "success",
            "description": "",
            "description_tooltip": null,
            "layout": "IPY_MODEL_f5164c59d77445dba9c19949b79b2249",
            "max": 601,
            "min": 0,
            "orientation": "horizontal",
            "style": "IPY_MODEL_5c9c6d38374f4a4ea631b57552a19b6f",
            "value": 601
          }
        },
        "b458f56bae57407baac992d01cc719d7": {
          "model_module": "@jupyter-widgets/controls",
          "model_name": "HTMLModel",
          "model_module_version": "1.5.0",
          "state": {
            "_dom_classes": [],
            "_model_module": "@jupyter-widgets/controls",
            "_model_module_version": "1.5.0",
            "_model_name": "HTMLModel",
            "_view_count": null,
            "_view_module": "@jupyter-widgets/controls",
            "_view_module_version": "1.5.0",
            "_view_name": "HTMLView",
            "description": "",
            "description_tooltip": null,
            "layout": "IPY_MODEL_35b52b538e5246beb85addd3a6bef7de",
            "placeholder": "​",
            "style": "IPY_MODEL_4204e6454d9b450bb393ba1f12660b8c",
            "value": " 601/601 [00:00&lt;00:00, 57.9kB/s]"
          }
        },
        "5e0fc555ab4b4e55bc71b5498bf8d92e": {
          "model_module": "@jupyter-widgets/base",
          "model_name": "LayoutModel",
          "model_module_version": "1.2.0",
          "state": {
            "_model_module": "@jupyter-widgets/base",
            "_model_module_version": "1.2.0",
            "_model_name": "LayoutModel",
            "_view_count": null,
            "_view_module": "@jupyter-widgets/base",
            "_view_module_version": "1.2.0",
            "_view_name": "LayoutView",
            "align_content": null,
            "align_items": null,
            "align_self": null,
            "border": null,
            "bottom": null,
            "display": null,
            "flex": null,
            "flex_flow": null,
            "grid_area": null,
            "grid_auto_columns": null,
            "grid_auto_flow": null,
            "grid_auto_rows": null,
            "grid_column": null,
            "grid_gap": null,
            "grid_row": null,
            "grid_template_areas": null,
            "grid_template_columns": null,
            "grid_template_rows": null,
            "height": null,
            "justify_content": null,
            "justify_items": null,
            "left": null,
            "margin": null,
            "max_height": null,
            "max_width": null,
            "min_height": null,
            "min_width": null,
            "object_fit": null,
            "object_position": null,
            "order": null,
            "overflow": null,
            "overflow_x": null,
            "overflow_y": null,
            "padding": null,
            "right": null,
            "top": null,
            "visibility": null,
            "width": null
          }
        },
        "381cf2dc4ee64c93a188ac5372e29790": {
          "model_module": "@jupyter-widgets/base",
          "model_name": "LayoutModel",
          "model_module_version": "1.2.0",
          "state": {
            "_model_module": "@jupyter-widgets/base",
            "_model_module_version": "1.2.0",
            "_model_name": "LayoutModel",
            "_view_count": null,
            "_view_module": "@jupyter-widgets/base",
            "_view_module_version": "1.2.0",
            "_view_name": "LayoutView",
            "align_content": null,
            "align_items": null,
            "align_self": null,
            "border": null,
            "bottom": null,
            "display": null,
            "flex": null,
            "flex_flow": null,
            "grid_area": null,
            "grid_auto_columns": null,
            "grid_auto_flow": null,
            "grid_auto_rows": null,
            "grid_column": null,
            "grid_gap": null,
            "grid_row": null,
            "grid_template_areas": null,
            "grid_template_columns": null,
            "grid_template_rows": null,
            "height": null,
            "justify_content": null,
            "justify_items": null,
            "left": null,
            "margin": null,
            "max_height": null,
            "max_width": null,
            "min_height": null,
            "min_width": null,
            "object_fit": null,
            "object_position": null,
            "order": null,
            "overflow": null,
            "overflow_x": null,
            "overflow_y": null,
            "padding": null,
            "right": null,
            "top": null,
            "visibility": null,
            "width": null
          }
        },
        "7a886abc937649ea98f9533079256841": {
          "model_module": "@jupyter-widgets/controls",
          "model_name": "DescriptionStyleModel",
          "model_module_version": "1.5.0",
          "state": {
            "_model_module": "@jupyter-widgets/controls",
            "_model_module_version": "1.5.0",
            "_model_name": "DescriptionStyleModel",
            "_view_count": null,
            "_view_module": "@jupyter-widgets/base",
            "_view_module_version": "1.2.0",
            "_view_name": "StyleView",
            "description_width": ""
          }
        },
        "f5164c59d77445dba9c19949b79b2249": {
          "model_module": "@jupyter-widgets/base",
          "model_name": "LayoutModel",
          "model_module_version": "1.2.0",
          "state": {
            "_model_module": "@jupyter-widgets/base",
            "_model_module_version": "1.2.0",
            "_model_name": "LayoutModel",
            "_view_count": null,
            "_view_module": "@jupyter-widgets/base",
            "_view_module_version": "1.2.0",
            "_view_name": "LayoutView",
            "align_content": null,
            "align_items": null,
            "align_self": null,
            "border": null,
            "bottom": null,
            "display": null,
            "flex": null,
            "flex_flow": null,
            "grid_area": null,
            "grid_auto_columns": null,
            "grid_auto_flow": null,
            "grid_auto_rows": null,
            "grid_column": null,
            "grid_gap": null,
            "grid_row": null,
            "grid_template_areas": null,
            "grid_template_columns": null,
            "grid_template_rows": null,
            "height": null,
            "justify_content": null,
            "justify_items": null,
            "left": null,
            "margin": null,
            "max_height": null,
            "max_width": null,
            "min_height": null,
            "min_width": null,
            "object_fit": null,
            "object_position": null,
            "order": null,
            "overflow": null,
            "overflow_x": null,
            "overflow_y": null,
            "padding": null,
            "right": null,
            "top": null,
            "visibility": null,
            "width": null
          }
        },
        "5c9c6d38374f4a4ea631b57552a19b6f": {
          "model_module": "@jupyter-widgets/controls",
          "model_name": "ProgressStyleModel",
          "model_module_version": "1.5.0",
          "state": {
            "_model_module": "@jupyter-widgets/controls",
            "_model_module_version": "1.5.0",
            "_model_name": "ProgressStyleModel",
            "_view_count": null,
            "_view_module": "@jupyter-widgets/base",
            "_view_module_version": "1.2.0",
            "_view_name": "StyleView",
            "bar_color": null,
            "description_width": ""
          }
        },
        "35b52b538e5246beb85addd3a6bef7de": {
          "model_module": "@jupyter-widgets/base",
          "model_name": "LayoutModel",
          "model_module_version": "1.2.0",
          "state": {
            "_model_module": "@jupyter-widgets/base",
            "_model_module_version": "1.2.0",
            "_model_name": "LayoutModel",
            "_view_count": null,
            "_view_module": "@jupyter-widgets/base",
            "_view_module_version": "1.2.0",
            "_view_name": "LayoutView",
            "align_content": null,
            "align_items": null,
            "align_self": null,
            "border": null,
            "bottom": null,
            "display": null,
            "flex": null,
            "flex_flow": null,
            "grid_area": null,
            "grid_auto_columns": null,
            "grid_auto_flow": null,
            "grid_auto_rows": null,
            "grid_column": null,
            "grid_gap": null,
            "grid_row": null,
            "grid_template_areas": null,
            "grid_template_columns": null,
            "grid_template_rows": null,
            "height": null,
            "justify_content": null,
            "justify_items": null,
            "left": null,
            "margin": null,
            "max_height": null,
            "max_width": null,
            "min_height": null,
            "min_width": null,
            "object_fit": null,
            "object_position": null,
            "order": null,
            "overflow": null,
            "overflow_x": null,
            "overflow_y": null,
            "padding": null,
            "right": null,
            "top": null,
            "visibility": null,
            "width": null
          }
        },
        "4204e6454d9b450bb393ba1f12660b8c": {
          "model_module": "@jupyter-widgets/controls",
          "model_name": "DescriptionStyleModel",
          "model_module_version": "1.5.0",
          "state": {
            "_model_module": "@jupyter-widgets/controls",
            "_model_module_version": "1.5.0",
            "_model_name": "DescriptionStyleModel",
            "_view_count": null,
            "_view_module": "@jupyter-widgets/base",
            "_view_module_version": "1.2.0",
            "_view_name": "StyleView",
            "description_width": ""
          }
        },
        "e418363613bd4bad9b7950da4683d201": {
          "model_module": "@jupyter-widgets/controls",
          "model_name": "HBoxModel",
          "model_module_version": "1.5.0",
          "state": {
            "_dom_classes": [],
            "_model_module": "@jupyter-widgets/controls",
            "_model_module_version": "1.5.0",
            "_model_name": "HBoxModel",
            "_view_count": null,
            "_view_module": "@jupyter-widgets/controls",
            "_view_module_version": "1.5.0",
            "_view_name": "HBoxView",
            "box_style": "",
            "children": [
              "IPY_MODEL_a55c41f3a780445fa16c5559973762e2",
              "IPY_MODEL_d9ac5db99fe844f3923850e191249e92",
              "IPY_MODEL_90dcfa05740c4aceb93f442769faf9bc"
            ],
            "layout": "IPY_MODEL_8b1f0dff8104497aaf7d3aa8a78344c7"
          }
        },
        "a55c41f3a780445fa16c5559973762e2": {
          "model_module": "@jupyter-widgets/controls",
          "model_name": "HTMLModel",
          "model_module_version": "1.5.0",
          "state": {
            "_dom_classes": [],
            "_model_module": "@jupyter-widgets/controls",
            "_model_module_version": "1.5.0",
            "_model_name": "HTMLModel",
            "_view_count": null,
            "_view_module": "@jupyter-widgets/controls",
            "_view_module_version": "1.5.0",
            "_view_name": "HTMLView",
            "description": "",
            "description_tooltip": null,
            "layout": "IPY_MODEL_2f82a2c1544947aeb83878124c6e2ca8",
            "placeholder": "​",
            "style": "IPY_MODEL_e5e375e34dce4ac684e6f81151d122b3",
            "value": "model.safetensors.index.json: 100%"
          }
        },
        "d9ac5db99fe844f3923850e191249e92": {
          "model_module": "@jupyter-widgets/controls",
          "model_name": "FloatProgressModel",
          "model_module_version": "1.5.0",
          "state": {
            "_dom_classes": [],
            "_model_module": "@jupyter-widgets/controls",
            "_model_module_version": "1.5.0",
            "_model_name": "FloatProgressModel",
            "_view_count": null,
            "_view_module": "@jupyter-widgets/controls",
            "_view_module_version": "1.5.0",
            "_view_name": "ProgressView",
            "bar_style": "success",
            "description": "",
            "description_tooltip": null,
            "layout": "IPY_MODEL_98ac39bfce0c42458826a5b2355be46a",
            "max": 23950,
            "min": 0,
            "orientation": "horizontal",
            "style": "IPY_MODEL_1cab08b8d3ac4d41b019c3b655ba0a74",
            "value": 23950
          }
        },
        "90dcfa05740c4aceb93f442769faf9bc": {
          "model_module": "@jupyter-widgets/controls",
          "model_name": "HTMLModel",
          "model_module_version": "1.5.0",
          "state": {
            "_dom_classes": [],
            "_model_module": "@jupyter-widgets/controls",
            "_model_module_version": "1.5.0",
            "_model_name": "HTMLModel",
            "_view_count": null,
            "_view_module": "@jupyter-widgets/controls",
            "_view_module_version": "1.5.0",
            "_view_name": "HTMLView",
            "description": "",
            "description_tooltip": null,
            "layout": "IPY_MODEL_506d294c7e3f42a9892b112a092f2ebd",
            "placeholder": "​",
            "style": "IPY_MODEL_52bfa64b09864b72b3dac24e6aca6303",
            "value": " 23.9k/23.9k [00:00&lt;00:00, 1.47MB/s]"
          }
        },
        "8b1f0dff8104497aaf7d3aa8a78344c7": {
          "model_module": "@jupyter-widgets/base",
          "model_name": "LayoutModel",
          "model_module_version": "1.2.0",
          "state": {
            "_model_module": "@jupyter-widgets/base",
            "_model_module_version": "1.2.0",
            "_model_name": "LayoutModel",
            "_view_count": null,
            "_view_module": "@jupyter-widgets/base",
            "_view_module_version": "1.2.0",
            "_view_name": "LayoutView",
            "align_content": null,
            "align_items": null,
            "align_self": null,
            "border": null,
            "bottom": null,
            "display": null,
            "flex": null,
            "flex_flow": null,
            "grid_area": null,
            "grid_auto_columns": null,
            "grid_auto_flow": null,
            "grid_auto_rows": null,
            "grid_column": null,
            "grid_gap": null,
            "grid_row": null,
            "grid_template_areas": null,
            "grid_template_columns": null,
            "grid_template_rows": null,
            "height": null,
            "justify_content": null,
            "justify_items": null,
            "left": null,
            "margin": null,
            "max_height": null,
            "max_width": null,
            "min_height": null,
            "min_width": null,
            "object_fit": null,
            "object_position": null,
            "order": null,
            "overflow": null,
            "overflow_x": null,
            "overflow_y": null,
            "padding": null,
            "right": null,
            "top": null,
            "visibility": null,
            "width": null
          }
        },
        "2f82a2c1544947aeb83878124c6e2ca8": {
          "model_module": "@jupyter-widgets/base",
          "model_name": "LayoutModel",
          "model_module_version": "1.2.0",
          "state": {
            "_model_module": "@jupyter-widgets/base",
            "_model_module_version": "1.2.0",
            "_model_name": "LayoutModel",
            "_view_count": null,
            "_view_module": "@jupyter-widgets/base",
            "_view_module_version": "1.2.0",
            "_view_name": "LayoutView",
            "align_content": null,
            "align_items": null,
            "align_self": null,
            "border": null,
            "bottom": null,
            "display": null,
            "flex": null,
            "flex_flow": null,
            "grid_area": null,
            "grid_auto_columns": null,
            "grid_auto_flow": null,
            "grid_auto_rows": null,
            "grid_column": null,
            "grid_gap": null,
            "grid_row": null,
            "grid_template_areas": null,
            "grid_template_columns": null,
            "grid_template_rows": null,
            "height": null,
            "justify_content": null,
            "justify_items": null,
            "left": null,
            "margin": null,
            "max_height": null,
            "max_width": null,
            "min_height": null,
            "min_width": null,
            "object_fit": null,
            "object_position": null,
            "order": null,
            "overflow": null,
            "overflow_x": null,
            "overflow_y": null,
            "padding": null,
            "right": null,
            "top": null,
            "visibility": null,
            "width": null
          }
        },
        "e5e375e34dce4ac684e6f81151d122b3": {
          "model_module": "@jupyter-widgets/controls",
          "model_name": "DescriptionStyleModel",
          "model_module_version": "1.5.0",
          "state": {
            "_model_module": "@jupyter-widgets/controls",
            "_model_module_version": "1.5.0",
            "_model_name": "DescriptionStyleModel",
            "_view_count": null,
            "_view_module": "@jupyter-widgets/base",
            "_view_module_version": "1.2.0",
            "_view_name": "StyleView",
            "description_width": ""
          }
        },
        "98ac39bfce0c42458826a5b2355be46a": {
          "model_module": "@jupyter-widgets/base",
          "model_name": "LayoutModel",
          "model_module_version": "1.2.0",
          "state": {
            "_model_module": "@jupyter-widgets/base",
            "_model_module_version": "1.2.0",
            "_model_name": "LayoutModel",
            "_view_count": null,
            "_view_module": "@jupyter-widgets/base",
            "_view_module_version": "1.2.0",
            "_view_name": "LayoutView",
            "align_content": null,
            "align_items": null,
            "align_self": null,
            "border": null,
            "bottom": null,
            "display": null,
            "flex": null,
            "flex_flow": null,
            "grid_area": null,
            "grid_auto_columns": null,
            "grid_auto_flow": null,
            "grid_auto_rows": null,
            "grid_column": null,
            "grid_gap": null,
            "grid_row": null,
            "grid_template_areas": null,
            "grid_template_columns": null,
            "grid_template_rows": null,
            "height": null,
            "justify_content": null,
            "justify_items": null,
            "left": null,
            "margin": null,
            "max_height": null,
            "max_width": null,
            "min_height": null,
            "min_width": null,
            "object_fit": null,
            "object_position": null,
            "order": null,
            "overflow": null,
            "overflow_x": null,
            "overflow_y": null,
            "padding": null,
            "right": null,
            "top": null,
            "visibility": null,
            "width": null
          }
        },
        "1cab08b8d3ac4d41b019c3b655ba0a74": {
          "model_module": "@jupyter-widgets/controls",
          "model_name": "ProgressStyleModel",
          "model_module_version": "1.5.0",
          "state": {
            "_model_module": "@jupyter-widgets/controls",
            "_model_module_version": "1.5.0",
            "_model_name": "ProgressStyleModel",
            "_view_count": null,
            "_view_module": "@jupyter-widgets/base",
            "_view_module_version": "1.2.0",
            "_view_name": "StyleView",
            "bar_color": null,
            "description_width": ""
          }
        },
        "506d294c7e3f42a9892b112a092f2ebd": {
          "model_module": "@jupyter-widgets/base",
          "model_name": "LayoutModel",
          "model_module_version": "1.2.0",
          "state": {
            "_model_module": "@jupyter-widgets/base",
            "_model_module_version": "1.2.0",
            "_model_name": "LayoutModel",
            "_view_count": null,
            "_view_module": "@jupyter-widgets/base",
            "_view_module_version": "1.2.0",
            "_view_name": "LayoutView",
            "align_content": null,
            "align_items": null,
            "align_self": null,
            "border": null,
            "bottom": null,
            "display": null,
            "flex": null,
            "flex_flow": null,
            "grid_area": null,
            "grid_auto_columns": null,
            "grid_auto_flow": null,
            "grid_auto_rows": null,
            "grid_column": null,
            "grid_gap": null,
            "grid_row": null,
            "grid_template_areas": null,
            "grid_template_columns": null,
            "grid_template_rows": null,
            "height": null,
            "justify_content": null,
            "justify_items": null,
            "left": null,
            "margin": null,
            "max_height": null,
            "max_width": null,
            "min_height": null,
            "min_width": null,
            "object_fit": null,
            "object_position": null,
            "order": null,
            "overflow": null,
            "overflow_x": null,
            "overflow_y": null,
            "padding": null,
            "right": null,
            "top": null,
            "visibility": null,
            "width": null
          }
        },
        "52bfa64b09864b72b3dac24e6aca6303": {
          "model_module": "@jupyter-widgets/controls",
          "model_name": "DescriptionStyleModel",
          "model_module_version": "1.5.0",
          "state": {
            "_model_module": "@jupyter-widgets/controls",
            "_model_module_version": "1.5.0",
            "_model_name": "DescriptionStyleModel",
            "_view_count": null,
            "_view_module": "@jupyter-widgets/base",
            "_view_module_version": "1.2.0",
            "_view_name": "StyleView",
            "description_width": ""
          }
        },
        "f03553f6fe5f4b45958c0efb0fbf6866": {
          "model_module": "@jupyter-widgets/controls",
          "model_name": "HBoxModel",
          "model_module_version": "1.5.0",
          "state": {
            "_dom_classes": [],
            "_model_module": "@jupyter-widgets/controls",
            "_model_module_version": "1.5.0",
            "_model_name": "HBoxModel",
            "_view_count": null,
            "_view_module": "@jupyter-widgets/controls",
            "_view_module_version": "1.5.0",
            "_view_name": "HBoxView",
            "box_style": "",
            "children": [
              "IPY_MODEL_aa3aa8dd0f3448ab9021d98522e5de42",
              "IPY_MODEL_11f91bd23a8542ad8c89f7743263beb3",
              "IPY_MODEL_259abc4cc3784fb49e0ef6631b4aa35b"
            ],
            "layout": "IPY_MODEL_d8e0453f4be348a78234e0f379ce4609"
          }
        },
        "aa3aa8dd0f3448ab9021d98522e5de42": {
          "model_module": "@jupyter-widgets/controls",
          "model_name": "HTMLModel",
          "model_module_version": "1.5.0",
          "state": {
            "_dom_classes": [],
            "_model_module": "@jupyter-widgets/controls",
            "_model_module_version": "1.5.0",
            "_model_name": "HTMLModel",
            "_view_count": null,
            "_view_module": "@jupyter-widgets/controls",
            "_view_module_version": "1.5.0",
            "_view_name": "HTMLView",
            "description": "",
            "description_tooltip": null,
            "layout": "IPY_MODEL_cfd91e6b60a649f3ad83c6d77805da39",
            "placeholder": "​",
            "style": "IPY_MODEL_2c8da49d77034ccaa40f96bd2000bff4",
            "value": "Fetching 3 files: 100%"
          }
        },
        "11f91bd23a8542ad8c89f7743263beb3": {
          "model_module": "@jupyter-widgets/controls",
          "model_name": "FloatProgressModel",
          "model_module_version": "1.5.0",
          "state": {
            "_dom_classes": [],
            "_model_module": "@jupyter-widgets/controls",
            "_model_module_version": "1.5.0",
            "_model_name": "FloatProgressModel",
            "_view_count": null,
            "_view_module": "@jupyter-widgets/controls",
            "_view_module_version": "1.5.0",
            "_view_name": "ProgressView",
            "bar_style": "success",
            "description": "",
            "description_tooltip": null,
            "layout": "IPY_MODEL_08d324a7465c473bb4c6298aa1946671",
            "max": 3,
            "min": 0,
            "orientation": "horizontal",
            "style": "IPY_MODEL_af5cd43b5e6b4c8eb783f5c470811030",
            "value": 3
          }
        },
        "259abc4cc3784fb49e0ef6631b4aa35b": {
          "model_module": "@jupyter-widgets/controls",
          "model_name": "HTMLModel",
          "model_module_version": "1.5.0",
          "state": {
            "_dom_classes": [],
            "_model_module": "@jupyter-widgets/controls",
            "_model_module_version": "1.5.0",
            "_model_name": "HTMLModel",
            "_view_count": null,
            "_view_module": "@jupyter-widgets/controls",
            "_view_module_version": "1.5.0",
            "_view_name": "HTMLView",
            "description": "",
            "description_tooltip": null,
            "layout": "IPY_MODEL_dc8269a26dfb464d9a1723a780d729ce",
            "placeholder": "​",
            "style": "IPY_MODEL_c9db3fad9f16466095832824d88a4cb2",
            "value": " 3/3 [02:26&lt;00:00, 146.93s/it]"
          }
        },
        "d8e0453f4be348a78234e0f379ce4609": {
          "model_module": "@jupyter-widgets/base",
          "model_name": "LayoutModel",
          "model_module_version": "1.2.0",
          "state": {
            "_model_module": "@jupyter-widgets/base",
            "_model_module_version": "1.2.0",
            "_model_name": "LayoutModel",
            "_view_count": null,
            "_view_module": "@jupyter-widgets/base",
            "_view_module_version": "1.2.0",
            "_view_name": "LayoutView",
            "align_content": null,
            "align_items": null,
            "align_self": null,
            "border": null,
            "bottom": null,
            "display": null,
            "flex": null,
            "flex_flow": null,
            "grid_area": null,
            "grid_auto_columns": null,
            "grid_auto_flow": null,
            "grid_auto_rows": null,
            "grid_column": null,
            "grid_gap": null,
            "grid_row": null,
            "grid_template_areas": null,
            "grid_template_columns": null,
            "grid_template_rows": null,
            "height": null,
            "justify_content": null,
            "justify_items": null,
            "left": null,
            "margin": null,
            "max_height": null,
            "max_width": null,
            "min_height": null,
            "min_width": null,
            "object_fit": null,
            "object_position": null,
            "order": null,
            "overflow": null,
            "overflow_x": null,
            "overflow_y": null,
            "padding": null,
            "right": null,
            "top": null,
            "visibility": null,
            "width": null
          }
        },
        "cfd91e6b60a649f3ad83c6d77805da39": {
          "model_module": "@jupyter-widgets/base",
          "model_name": "LayoutModel",
          "model_module_version": "1.2.0",
          "state": {
            "_model_module": "@jupyter-widgets/base",
            "_model_module_version": "1.2.0",
            "_model_name": "LayoutModel",
            "_view_count": null,
            "_view_module": "@jupyter-widgets/base",
            "_view_module_version": "1.2.0",
            "_view_name": "LayoutView",
            "align_content": null,
            "align_items": null,
            "align_self": null,
            "border": null,
            "bottom": null,
            "display": null,
            "flex": null,
            "flex_flow": null,
            "grid_area": null,
            "grid_auto_columns": null,
            "grid_auto_flow": null,
            "grid_auto_rows": null,
            "grid_column": null,
            "grid_gap": null,
            "grid_row": null,
            "grid_template_areas": null,
            "grid_template_columns": null,
            "grid_template_rows": null,
            "height": null,
            "justify_content": null,
            "justify_items": null,
            "left": null,
            "margin": null,
            "max_height": null,
            "max_width": null,
            "min_height": null,
            "min_width": null,
            "object_fit": null,
            "object_position": null,
            "order": null,
            "overflow": null,
            "overflow_x": null,
            "overflow_y": null,
            "padding": null,
            "right": null,
            "top": null,
            "visibility": null,
            "width": null
          }
        },
        "2c8da49d77034ccaa40f96bd2000bff4": {
          "model_module": "@jupyter-widgets/controls",
          "model_name": "DescriptionStyleModel",
          "model_module_version": "1.5.0",
          "state": {
            "_model_module": "@jupyter-widgets/controls",
            "_model_module_version": "1.5.0",
            "_model_name": "DescriptionStyleModel",
            "_view_count": null,
            "_view_module": "@jupyter-widgets/base",
            "_view_module_version": "1.2.0",
            "_view_name": "StyleView",
            "description_width": ""
          }
        },
        "08d324a7465c473bb4c6298aa1946671": {
          "model_module": "@jupyter-widgets/base",
          "model_name": "LayoutModel",
          "model_module_version": "1.2.0",
          "state": {
            "_model_module": "@jupyter-widgets/base",
            "_model_module_version": "1.2.0",
            "_model_name": "LayoutModel",
            "_view_count": null,
            "_view_module": "@jupyter-widgets/base",
            "_view_module_version": "1.2.0",
            "_view_name": "LayoutView",
            "align_content": null,
            "align_items": null,
            "align_self": null,
            "border": null,
            "bottom": null,
            "display": null,
            "flex": null,
            "flex_flow": null,
            "grid_area": null,
            "grid_auto_columns": null,
            "grid_auto_flow": null,
            "grid_auto_rows": null,
            "grid_column": null,
            "grid_gap": null,
            "grid_row": null,
            "grid_template_areas": null,
            "grid_template_columns": null,
            "grid_template_rows": null,
            "height": null,
            "justify_content": null,
            "justify_items": null,
            "left": null,
            "margin": null,
            "max_height": null,
            "max_width": null,
            "min_height": null,
            "min_width": null,
            "object_fit": null,
            "object_position": null,
            "order": null,
            "overflow": null,
            "overflow_x": null,
            "overflow_y": null,
            "padding": null,
            "right": null,
            "top": null,
            "visibility": null,
            "width": null
          }
        },
        "af5cd43b5e6b4c8eb783f5c470811030": {
          "model_module": "@jupyter-widgets/controls",
          "model_name": "ProgressStyleModel",
          "model_module_version": "1.5.0",
          "state": {
            "_model_module": "@jupyter-widgets/controls",
            "_model_module_version": "1.5.0",
            "_model_name": "ProgressStyleModel",
            "_view_count": null,
            "_view_module": "@jupyter-widgets/base",
            "_view_module_version": "1.2.0",
            "_view_name": "StyleView",
            "bar_color": null,
            "description_width": ""
          }
        },
        "dc8269a26dfb464d9a1723a780d729ce": {
          "model_module": "@jupyter-widgets/base",
          "model_name": "LayoutModel",
          "model_module_version": "1.2.0",
          "state": {
            "_model_module": "@jupyter-widgets/base",
            "_model_module_version": "1.2.0",
            "_model_name": "LayoutModel",
            "_view_count": null,
            "_view_module": "@jupyter-widgets/base",
            "_view_module_version": "1.2.0",
            "_view_name": "LayoutView",
            "align_content": null,
            "align_items": null,
            "align_self": null,
            "border": null,
            "bottom": null,
            "display": null,
            "flex": null,
            "flex_flow": null,
            "grid_area": null,
            "grid_auto_columns": null,
            "grid_auto_flow": null,
            "grid_auto_rows": null,
            "grid_column": null,
            "grid_gap": null,
            "grid_row": null,
            "grid_template_areas": null,
            "grid_template_columns": null,
            "grid_template_rows": null,
            "height": null,
            "justify_content": null,
            "justify_items": null,
            "left": null,
            "margin": null,
            "max_height": null,
            "max_width": null,
            "min_height": null,
            "min_width": null,
            "object_fit": null,
            "object_position": null,
            "order": null,
            "overflow": null,
            "overflow_x": null,
            "overflow_y": null,
            "padding": null,
            "right": null,
            "top": null,
            "visibility": null,
            "width": null
          }
        },
        "c9db3fad9f16466095832824d88a4cb2": {
          "model_module": "@jupyter-widgets/controls",
          "model_name": "DescriptionStyleModel",
          "model_module_version": "1.5.0",
          "state": {
            "_model_module": "@jupyter-widgets/controls",
            "_model_module_version": "1.5.0",
            "_model_name": "DescriptionStyleModel",
            "_view_count": null,
            "_view_module": "@jupyter-widgets/base",
            "_view_module_version": "1.2.0",
            "_view_name": "StyleView",
            "description_width": ""
          }
        },
        "7abe37889e1644f4b0ac3fadc87bcad3": {
          "model_module": "@jupyter-widgets/controls",
          "model_name": "HBoxModel",
          "model_module_version": "1.5.0",
          "state": {
            "_dom_classes": [],
            "_model_module": "@jupyter-widgets/controls",
            "_model_module_version": "1.5.0",
            "_model_name": "HBoxModel",
            "_view_count": null,
            "_view_module": "@jupyter-widgets/controls",
            "_view_module_version": "1.5.0",
            "_view_name": "HBoxView",
            "box_style": "",
            "children": [
              "IPY_MODEL_93b6ec218aa14da59b3cf1c4b3376a57",
              "IPY_MODEL_8e61cb731dd14effaeac9d75b64f9f60",
              "IPY_MODEL_91c9ce29f93b450990cad7f9062bb6b6"
            ],
            "layout": "IPY_MODEL_61c0958d445347a089b525838c846752"
          }
        },
        "93b6ec218aa14da59b3cf1c4b3376a57": {
          "model_module": "@jupyter-widgets/controls",
          "model_name": "HTMLModel",
          "model_module_version": "1.5.0",
          "state": {
            "_dom_classes": [],
            "_model_module": "@jupyter-widgets/controls",
            "_model_module_version": "1.5.0",
            "_model_name": "HTMLModel",
            "_view_count": null,
            "_view_module": "@jupyter-widgets/controls",
            "_view_module_version": "1.5.0",
            "_view_name": "HTMLView",
            "description": "",
            "description_tooltip": null,
            "layout": "IPY_MODEL_3bc77f8bdde3460d96c3804ca1f0839a",
            "placeholder": "​",
            "style": "IPY_MODEL_c48c194b89a04d4d9aeed7a83f65aa90",
            "value": "model-00002-of-00003.safetensors: 100%"
          }
        },
        "8e61cb731dd14effaeac9d75b64f9f60": {
          "model_module": "@jupyter-widgets/controls",
          "model_name": "FloatProgressModel",
          "model_module_version": "1.5.0",
          "state": {
            "_dom_classes": [],
            "_model_module": "@jupyter-widgets/controls",
            "_model_module_version": "1.5.0",
            "_model_name": "FloatProgressModel",
            "_view_count": null,
            "_view_module": "@jupyter-widgets/controls",
            "_view_module_version": "1.5.0",
            "_view_name": "ProgressView",
            "bar_style": "success",
            "description": "",
            "description_tooltip": null,
            "layout": "IPY_MODEL_e6760dc3237043b09c8b6eb555f88f90",
            "max": 4999819336,
            "min": 0,
            "orientation": "horizontal",
            "style": "IPY_MODEL_9c4c505d4f2d4a58b2c766abc9a1dd06",
            "value": 4999819336
          }
        },
        "91c9ce29f93b450990cad7f9062bb6b6": {
          "model_module": "@jupyter-widgets/controls",
          "model_name": "HTMLModel",
          "model_module_version": "1.5.0",
          "state": {
            "_dom_classes": [],
            "_model_module": "@jupyter-widgets/controls",
            "_model_module_version": "1.5.0",
            "_model_name": "HTMLModel",
            "_view_count": null,
            "_view_module": "@jupyter-widgets/controls",
            "_view_module_version": "1.5.0",
            "_view_name": "HTMLView",
            "description": "",
            "description_tooltip": null,
            "layout": "IPY_MODEL_45420afc795b40e09a5ceb2afa37b775",
            "placeholder": "​",
            "style": "IPY_MODEL_9b7401fcc8544015994efc219db66049",
            "value": " 5.00G/5.00G [02:15&lt;00:00, 120MB/s]"
          }
        },
        "61c0958d445347a089b525838c846752": {
          "model_module": "@jupyter-widgets/base",
          "model_name": "LayoutModel",
          "model_module_version": "1.2.0",
          "state": {
            "_model_module": "@jupyter-widgets/base",
            "_model_module_version": "1.2.0",
            "_model_name": "LayoutModel",
            "_view_count": null,
            "_view_module": "@jupyter-widgets/base",
            "_view_module_version": "1.2.0",
            "_view_name": "LayoutView",
            "align_content": null,
            "align_items": null,
            "align_self": null,
            "border": null,
            "bottom": null,
            "display": null,
            "flex": null,
            "flex_flow": null,
            "grid_area": null,
            "grid_auto_columns": null,
            "grid_auto_flow": null,
            "grid_auto_rows": null,
            "grid_column": null,
            "grid_gap": null,
            "grid_row": null,
            "grid_template_areas": null,
            "grid_template_columns": null,
            "grid_template_rows": null,
            "height": null,
            "justify_content": null,
            "justify_items": null,
            "left": null,
            "margin": null,
            "max_height": null,
            "max_width": null,
            "min_height": null,
            "min_width": null,
            "object_fit": null,
            "object_position": null,
            "order": null,
            "overflow": null,
            "overflow_x": null,
            "overflow_y": null,
            "padding": null,
            "right": null,
            "top": null,
            "visibility": null,
            "width": null
          }
        },
        "3bc77f8bdde3460d96c3804ca1f0839a": {
          "model_module": "@jupyter-widgets/base",
          "model_name": "LayoutModel",
          "model_module_version": "1.2.0",
          "state": {
            "_model_module": "@jupyter-widgets/base",
            "_model_module_version": "1.2.0",
            "_model_name": "LayoutModel",
            "_view_count": null,
            "_view_module": "@jupyter-widgets/base",
            "_view_module_version": "1.2.0",
            "_view_name": "LayoutView",
            "align_content": null,
            "align_items": null,
            "align_self": null,
            "border": null,
            "bottom": null,
            "display": null,
            "flex": null,
            "flex_flow": null,
            "grid_area": null,
            "grid_auto_columns": null,
            "grid_auto_flow": null,
            "grid_auto_rows": null,
            "grid_column": null,
            "grid_gap": null,
            "grid_row": null,
            "grid_template_areas": null,
            "grid_template_columns": null,
            "grid_template_rows": null,
            "height": null,
            "justify_content": null,
            "justify_items": null,
            "left": null,
            "margin": null,
            "max_height": null,
            "max_width": null,
            "min_height": null,
            "min_width": null,
            "object_fit": null,
            "object_position": null,
            "order": null,
            "overflow": null,
            "overflow_x": null,
            "overflow_y": null,
            "padding": null,
            "right": null,
            "top": null,
            "visibility": null,
            "width": null
          }
        },
        "c48c194b89a04d4d9aeed7a83f65aa90": {
          "model_module": "@jupyter-widgets/controls",
          "model_name": "DescriptionStyleModel",
          "model_module_version": "1.5.0",
          "state": {
            "_model_module": "@jupyter-widgets/controls",
            "_model_module_version": "1.5.0",
            "_model_name": "DescriptionStyleModel",
            "_view_count": null,
            "_view_module": "@jupyter-widgets/base",
            "_view_module_version": "1.2.0",
            "_view_name": "StyleView",
            "description_width": ""
          }
        },
        "e6760dc3237043b09c8b6eb555f88f90": {
          "model_module": "@jupyter-widgets/base",
          "model_name": "LayoutModel",
          "model_module_version": "1.2.0",
          "state": {
            "_model_module": "@jupyter-widgets/base",
            "_model_module_version": "1.2.0",
            "_model_name": "LayoutModel",
            "_view_count": null,
            "_view_module": "@jupyter-widgets/base",
            "_view_module_version": "1.2.0",
            "_view_name": "LayoutView",
            "align_content": null,
            "align_items": null,
            "align_self": null,
            "border": null,
            "bottom": null,
            "display": null,
            "flex": null,
            "flex_flow": null,
            "grid_area": null,
            "grid_auto_columns": null,
            "grid_auto_flow": null,
            "grid_auto_rows": null,
            "grid_column": null,
            "grid_gap": null,
            "grid_row": null,
            "grid_template_areas": null,
            "grid_template_columns": null,
            "grid_template_rows": null,
            "height": null,
            "justify_content": null,
            "justify_items": null,
            "left": null,
            "margin": null,
            "max_height": null,
            "max_width": null,
            "min_height": null,
            "min_width": null,
            "object_fit": null,
            "object_position": null,
            "order": null,
            "overflow": null,
            "overflow_x": null,
            "overflow_y": null,
            "padding": null,
            "right": null,
            "top": null,
            "visibility": null,
            "width": null
          }
        },
        "9c4c505d4f2d4a58b2c766abc9a1dd06": {
          "model_module": "@jupyter-widgets/controls",
          "model_name": "ProgressStyleModel",
          "model_module_version": "1.5.0",
          "state": {
            "_model_module": "@jupyter-widgets/controls",
            "_model_module_version": "1.5.0",
            "_model_name": "ProgressStyleModel",
            "_view_count": null,
            "_view_module": "@jupyter-widgets/base",
            "_view_module_version": "1.2.0",
            "_view_name": "StyleView",
            "bar_color": null,
            "description_width": ""
          }
        },
        "45420afc795b40e09a5ceb2afa37b775": {
          "model_module": "@jupyter-widgets/base",
          "model_name": "LayoutModel",
          "model_module_version": "1.2.0",
          "state": {
            "_model_module": "@jupyter-widgets/base",
            "_model_module_version": "1.2.0",
            "_model_name": "LayoutModel",
            "_view_count": null,
            "_view_module": "@jupyter-widgets/base",
            "_view_module_version": "1.2.0",
            "_view_name": "LayoutView",
            "align_content": null,
            "align_items": null,
            "align_self": null,
            "border": null,
            "bottom": null,
            "display": null,
            "flex": null,
            "flex_flow": null,
            "grid_area": null,
            "grid_auto_columns": null,
            "grid_auto_flow": null,
            "grid_auto_rows": null,
            "grid_column": null,
            "grid_gap": null,
            "grid_row": null,
            "grid_template_areas": null,
            "grid_template_columns": null,
            "grid_template_rows": null,
            "height": null,
            "justify_content": null,
            "justify_items": null,
            "left": null,
            "margin": null,
            "max_height": null,
            "max_width": null,
            "min_height": null,
            "min_width": null,
            "object_fit": null,
            "object_position": null,
            "order": null,
            "overflow": null,
            "overflow_x": null,
            "overflow_y": null,
            "padding": null,
            "right": null,
            "top": null,
            "visibility": null,
            "width": null
          }
        },
        "9b7401fcc8544015994efc219db66049": {
          "model_module": "@jupyter-widgets/controls",
          "model_name": "DescriptionStyleModel",
          "model_module_version": "1.5.0",
          "state": {
            "_model_module": "@jupyter-widgets/controls",
            "_model_module_version": "1.5.0",
            "_model_name": "DescriptionStyleModel",
            "_view_count": null,
            "_view_module": "@jupyter-widgets/base",
            "_view_module_version": "1.2.0",
            "_view_name": "StyleView",
            "description_width": ""
          }
        },
        "651e869760cc4855a5543816a50d3f2e": {
          "model_module": "@jupyter-widgets/controls",
          "model_name": "HBoxModel",
          "model_module_version": "1.5.0",
          "state": {
            "_dom_classes": [],
            "_model_module": "@jupyter-widgets/controls",
            "_model_module_version": "1.5.0",
            "_model_name": "HBoxModel",
            "_view_count": null,
            "_view_module": "@jupyter-widgets/controls",
            "_view_module_version": "1.5.0",
            "_view_name": "HBoxView",
            "box_style": "",
            "children": [
              "IPY_MODEL_a3fe2e1404a24f4786efd862a34fc785",
              "IPY_MODEL_c9eec127a4bb45cca638568571f75356",
              "IPY_MODEL_e891194c06d2491da80c807578220f8c"
            ],
            "layout": "IPY_MODEL_8609b171988a4540970f2183344e3572"
          }
        },
        "a3fe2e1404a24f4786efd862a34fc785": {
          "model_module": "@jupyter-widgets/controls",
          "model_name": "HTMLModel",
          "model_module_version": "1.5.0",
          "state": {
            "_dom_classes": [],
            "_model_module": "@jupyter-widgets/controls",
            "_model_module_version": "1.5.0",
            "_model_name": "HTMLModel",
            "_view_count": null,
            "_view_module": "@jupyter-widgets/controls",
            "_view_module_version": "1.5.0",
            "_view_name": "HTMLView",
            "description": "",
            "description_tooltip": null,
            "layout": "IPY_MODEL_64fff3c4b08d437fb7dafc2fb2393b9e",
            "placeholder": "​",
            "style": "IPY_MODEL_4fdad46e4cea403fa8b44a69e968970e",
            "value": "model-00001-of-00003.safetensors: 100%"
          }
        },
        "c9eec127a4bb45cca638568571f75356": {
          "model_module": "@jupyter-widgets/controls",
          "model_name": "FloatProgressModel",
          "model_module_version": "1.5.0",
          "state": {
            "_dom_classes": [],
            "_model_module": "@jupyter-widgets/controls",
            "_model_module_version": "1.5.0",
            "_model_name": "FloatProgressModel",
            "_view_count": null,
            "_view_module": "@jupyter-widgets/controls",
            "_view_module_version": "1.5.0",
            "_view_name": "ProgressView",
            "bar_style": "success",
            "description": "",
            "description_tooltip": null,
            "layout": "IPY_MODEL_a6e63d0c3bc34f41b6666c16866fc899",
            "max": 4949453792,
            "min": 0,
            "orientation": "horizontal",
            "style": "IPY_MODEL_deed180ebb4c4633aaec178a8a6c3472",
            "value": 4949453792
          }
        },
        "e891194c06d2491da80c807578220f8c": {
          "model_module": "@jupyter-widgets/controls",
          "model_name": "HTMLModel",
          "model_module_version": "1.5.0",
          "state": {
            "_dom_classes": [],
            "_model_module": "@jupyter-widgets/controls",
            "_model_module_version": "1.5.0",
            "_model_name": "HTMLModel",
            "_view_count": null,
            "_view_module": "@jupyter-widgets/controls",
            "_view_module_version": "1.5.0",
            "_view_name": "HTMLView",
            "description": "",
            "description_tooltip": null,
            "layout": "IPY_MODEL_bc361487edc044459d90f5ab647ca179",
            "placeholder": "​",
            "style": "IPY_MODEL_2b7bc32da2ef416fa084a605690649b7",
            "value": " 4.95G/4.95G [02:26&lt;00:00, 227MB/s]"
          }
        },
        "8609b171988a4540970f2183344e3572": {
          "model_module": "@jupyter-widgets/base",
          "model_name": "LayoutModel",
          "model_module_version": "1.2.0",
          "state": {
            "_model_module": "@jupyter-widgets/base",
            "_model_module_version": "1.2.0",
            "_model_name": "LayoutModel",
            "_view_count": null,
            "_view_module": "@jupyter-widgets/base",
            "_view_module_version": "1.2.0",
            "_view_name": "LayoutView",
            "align_content": null,
            "align_items": null,
            "align_self": null,
            "border": null,
            "bottom": null,
            "display": null,
            "flex": null,
            "flex_flow": null,
            "grid_area": null,
            "grid_auto_columns": null,
            "grid_auto_flow": null,
            "grid_auto_rows": null,
            "grid_column": null,
            "grid_gap": null,
            "grid_row": null,
            "grid_template_areas": null,
            "grid_template_columns": null,
            "grid_template_rows": null,
            "height": null,
            "justify_content": null,
            "justify_items": null,
            "left": null,
            "margin": null,
            "max_height": null,
            "max_width": null,
            "min_height": null,
            "min_width": null,
            "object_fit": null,
            "object_position": null,
            "order": null,
            "overflow": null,
            "overflow_x": null,
            "overflow_y": null,
            "padding": null,
            "right": null,
            "top": null,
            "visibility": null,
            "width": null
          }
        },
        "64fff3c4b08d437fb7dafc2fb2393b9e": {
          "model_module": "@jupyter-widgets/base",
          "model_name": "LayoutModel",
          "model_module_version": "1.2.0",
          "state": {
            "_model_module": "@jupyter-widgets/base",
            "_model_module_version": "1.2.0",
            "_model_name": "LayoutModel",
            "_view_count": null,
            "_view_module": "@jupyter-widgets/base",
            "_view_module_version": "1.2.0",
            "_view_name": "LayoutView",
            "align_content": null,
            "align_items": null,
            "align_self": null,
            "border": null,
            "bottom": null,
            "display": null,
            "flex": null,
            "flex_flow": null,
            "grid_area": null,
            "grid_auto_columns": null,
            "grid_auto_flow": null,
            "grid_auto_rows": null,
            "grid_column": null,
            "grid_gap": null,
            "grid_row": null,
            "grid_template_areas": null,
            "grid_template_columns": null,
            "grid_template_rows": null,
            "height": null,
            "justify_content": null,
            "justify_items": null,
            "left": null,
            "margin": null,
            "max_height": null,
            "max_width": null,
            "min_height": null,
            "min_width": null,
            "object_fit": null,
            "object_position": null,
            "order": null,
            "overflow": null,
            "overflow_x": null,
            "overflow_y": null,
            "padding": null,
            "right": null,
            "top": null,
            "visibility": null,
            "width": null
          }
        },
        "4fdad46e4cea403fa8b44a69e968970e": {
          "model_module": "@jupyter-widgets/controls",
          "model_name": "DescriptionStyleModel",
          "model_module_version": "1.5.0",
          "state": {
            "_model_module": "@jupyter-widgets/controls",
            "_model_module_version": "1.5.0",
            "_model_name": "DescriptionStyleModel",
            "_view_count": null,
            "_view_module": "@jupyter-widgets/base",
            "_view_module_version": "1.2.0",
            "_view_name": "StyleView",
            "description_width": ""
          }
        },
        "a6e63d0c3bc34f41b6666c16866fc899": {
          "model_module": "@jupyter-widgets/base",
          "model_name": "LayoutModel",
          "model_module_version": "1.2.0",
          "state": {
            "_model_module": "@jupyter-widgets/base",
            "_model_module_version": "1.2.0",
            "_model_name": "LayoutModel",
            "_view_count": null,
            "_view_module": "@jupyter-widgets/base",
            "_view_module_version": "1.2.0",
            "_view_name": "LayoutView",
            "align_content": null,
            "align_items": null,
            "align_self": null,
            "border": null,
            "bottom": null,
            "display": null,
            "flex": null,
            "flex_flow": null,
            "grid_area": null,
            "grid_auto_columns": null,
            "grid_auto_flow": null,
            "grid_auto_rows": null,
            "grid_column": null,
            "grid_gap": null,
            "grid_row": null,
            "grid_template_areas": null,
            "grid_template_columns": null,
            "grid_template_rows": null,
            "height": null,
            "justify_content": null,
            "justify_items": null,
            "left": null,
            "margin": null,
            "max_height": null,
            "max_width": null,
            "min_height": null,
            "min_width": null,
            "object_fit": null,
            "object_position": null,
            "order": null,
            "overflow": null,
            "overflow_x": null,
            "overflow_y": null,
            "padding": null,
            "right": null,
            "top": null,
            "visibility": null,
            "width": null
          }
        },
        "deed180ebb4c4633aaec178a8a6c3472": {
          "model_module": "@jupyter-widgets/controls",
          "model_name": "ProgressStyleModel",
          "model_module_version": "1.5.0",
          "state": {
            "_model_module": "@jupyter-widgets/controls",
            "_model_module_version": "1.5.0",
            "_model_name": "ProgressStyleModel",
            "_view_count": null,
            "_view_module": "@jupyter-widgets/base",
            "_view_module_version": "1.2.0",
            "_view_name": "StyleView",
            "bar_color": null,
            "description_width": ""
          }
        },
        "bc361487edc044459d90f5ab647ca179": {
          "model_module": "@jupyter-widgets/base",
          "model_name": "LayoutModel",
          "model_module_version": "1.2.0",
          "state": {
            "_model_module": "@jupyter-widgets/base",
            "_model_module_version": "1.2.0",
            "_model_name": "LayoutModel",
            "_view_count": null,
            "_view_module": "@jupyter-widgets/base",
            "_view_module_version": "1.2.0",
            "_view_name": "LayoutView",
            "align_content": null,
            "align_items": null,
            "align_self": null,
            "border": null,
            "bottom": null,
            "display": null,
            "flex": null,
            "flex_flow": null,
            "grid_area": null,
            "grid_auto_columns": null,
            "grid_auto_flow": null,
            "grid_auto_rows": null,
            "grid_column": null,
            "grid_gap": null,
            "grid_row": null,
            "grid_template_areas": null,
            "grid_template_columns": null,
            "grid_template_rows": null,
            "height": null,
            "justify_content": null,
            "justify_items": null,
            "left": null,
            "margin": null,
            "max_height": null,
            "max_width": null,
            "min_height": null,
            "min_width": null,
            "object_fit": null,
            "object_position": null,
            "order": null,
            "overflow": null,
            "overflow_x": null,
            "overflow_y": null,
            "padding": null,
            "right": null,
            "top": null,
            "visibility": null,
            "width": null
          }
        },
        "2b7bc32da2ef416fa084a605690649b7": {
          "model_module": "@jupyter-widgets/controls",
          "model_name": "DescriptionStyleModel",
          "model_module_version": "1.5.0",
          "state": {
            "_model_module": "@jupyter-widgets/controls",
            "_model_module_version": "1.5.0",
            "_model_name": "DescriptionStyleModel",
            "_view_count": null,
            "_view_module": "@jupyter-widgets/base",
            "_view_module_version": "1.2.0",
            "_view_name": "StyleView",
            "description_width": ""
          }
        },
        "3df4bc232b5441a0ad645cefc7e0fb67": {
          "model_module": "@jupyter-widgets/controls",
          "model_name": "HBoxModel",
          "model_module_version": "1.5.0",
          "state": {
            "_dom_classes": [],
            "_model_module": "@jupyter-widgets/controls",
            "_model_module_version": "1.5.0",
            "_model_name": "HBoxModel",
            "_view_count": null,
            "_view_module": "@jupyter-widgets/controls",
            "_view_module_version": "1.5.0",
            "_view_name": "HBoxView",
            "box_style": "",
            "children": [
              "IPY_MODEL_d5962be33c52479bada5411b029958c3",
              "IPY_MODEL_d2bf45b3305d492f8f52422bb362427b",
              "IPY_MODEL_b365222f998c4a9e8fc40f02e77c1adb"
            ],
            "layout": "IPY_MODEL_3940719fe6184f148b56d17d699154ef"
          }
        },
        "d5962be33c52479bada5411b029958c3": {
          "model_module": "@jupyter-widgets/controls",
          "model_name": "HTMLModel",
          "model_module_version": "1.5.0",
          "state": {
            "_dom_classes": [],
            "_model_module": "@jupyter-widgets/controls",
            "_model_module_version": "1.5.0",
            "_model_name": "HTMLModel",
            "_view_count": null,
            "_view_module": "@jupyter-widgets/controls",
            "_view_module_version": "1.5.0",
            "_view_name": "HTMLView",
            "description": "",
            "description_tooltip": null,
            "layout": "IPY_MODEL_ecb29ba9898a46cc95930a969a4b559b",
            "placeholder": "​",
            "style": "IPY_MODEL_630131a1892d4ab98c23d31794155016",
            "value": "model-00003-of-00003.safetensors: 100%"
          }
        },
        "d2bf45b3305d492f8f52422bb362427b": {
          "model_module": "@jupyter-widgets/controls",
          "model_name": "FloatProgressModel",
          "model_module_version": "1.5.0",
          "state": {
            "_dom_classes": [],
            "_model_module": "@jupyter-widgets/controls",
            "_model_module_version": "1.5.0",
            "_model_name": "FloatProgressModel",
            "_view_count": null,
            "_view_module": "@jupyter-widgets/controls",
            "_view_module_version": "1.5.0",
            "_view_name": "ProgressView",
            "bar_style": "success",
            "description": "",
            "description_tooltip": null,
            "layout": "IPY_MODEL_4f76b57c857e4aa6a262be5adbd85609",
            "max": 4546807800,
            "min": 0,
            "orientation": "horizontal",
            "style": "IPY_MODEL_aee144feeab345f1a22c5653cca69cd3",
            "value": 4546807800
          }
        },
        "b365222f998c4a9e8fc40f02e77c1adb": {
          "model_module": "@jupyter-widgets/controls",
          "model_name": "HTMLModel",
          "model_module_version": "1.5.0",
          "state": {
            "_dom_classes": [],
            "_model_module": "@jupyter-widgets/controls",
            "_model_module_version": "1.5.0",
            "_model_name": "HTMLModel",
            "_view_count": null,
            "_view_module": "@jupyter-widgets/controls",
            "_view_module_version": "1.5.0",
            "_view_name": "HTMLView",
            "description": "",
            "description_tooltip": null,
            "layout": "IPY_MODEL_68df4d7ba06a411c85136d88bedba685",
            "placeholder": "​",
            "style": "IPY_MODEL_e7c76a07130b4a379d77ef70286405db",
            "value": " 4.55G/4.55G [02:09&lt;00:00, 43.3MB/s]"
          }
        },
        "3940719fe6184f148b56d17d699154ef": {
          "model_module": "@jupyter-widgets/base",
          "model_name": "LayoutModel",
          "model_module_version": "1.2.0",
          "state": {
            "_model_module": "@jupyter-widgets/base",
            "_model_module_version": "1.2.0",
            "_model_name": "LayoutModel",
            "_view_count": null,
            "_view_module": "@jupyter-widgets/base",
            "_view_module_version": "1.2.0",
            "_view_name": "LayoutView",
            "align_content": null,
            "align_items": null,
            "align_self": null,
            "border": null,
            "bottom": null,
            "display": null,
            "flex": null,
            "flex_flow": null,
            "grid_area": null,
            "grid_auto_columns": null,
            "grid_auto_flow": null,
            "grid_auto_rows": null,
            "grid_column": null,
            "grid_gap": null,
            "grid_row": null,
            "grid_template_areas": null,
            "grid_template_columns": null,
            "grid_template_rows": null,
            "height": null,
            "justify_content": null,
            "justify_items": null,
            "left": null,
            "margin": null,
            "max_height": null,
            "max_width": null,
            "min_height": null,
            "min_width": null,
            "object_fit": null,
            "object_position": null,
            "order": null,
            "overflow": null,
            "overflow_x": null,
            "overflow_y": null,
            "padding": null,
            "right": null,
            "top": null,
            "visibility": null,
            "width": null
          }
        },
        "ecb29ba9898a46cc95930a969a4b559b": {
          "model_module": "@jupyter-widgets/base",
          "model_name": "LayoutModel",
          "model_module_version": "1.2.0",
          "state": {
            "_model_module": "@jupyter-widgets/base",
            "_model_module_version": "1.2.0",
            "_model_name": "LayoutModel",
            "_view_count": null,
            "_view_module": "@jupyter-widgets/base",
            "_view_module_version": "1.2.0",
            "_view_name": "LayoutView",
            "align_content": null,
            "align_items": null,
            "align_self": null,
            "border": null,
            "bottom": null,
            "display": null,
            "flex": null,
            "flex_flow": null,
            "grid_area": null,
            "grid_auto_columns": null,
            "grid_auto_flow": null,
            "grid_auto_rows": null,
            "grid_column": null,
            "grid_gap": null,
            "grid_row": null,
            "grid_template_areas": null,
            "grid_template_columns": null,
            "grid_template_rows": null,
            "height": null,
            "justify_content": null,
            "justify_items": null,
            "left": null,
            "margin": null,
            "max_height": null,
            "max_width": null,
            "min_height": null,
            "min_width": null,
            "object_fit": null,
            "object_position": null,
            "order": null,
            "overflow": null,
            "overflow_x": null,
            "overflow_y": null,
            "padding": null,
            "right": null,
            "top": null,
            "visibility": null,
            "width": null
          }
        },
        "630131a1892d4ab98c23d31794155016": {
          "model_module": "@jupyter-widgets/controls",
          "model_name": "DescriptionStyleModel",
          "model_module_version": "1.5.0",
          "state": {
            "_model_module": "@jupyter-widgets/controls",
            "_model_module_version": "1.5.0",
            "_model_name": "DescriptionStyleModel",
            "_view_count": null,
            "_view_module": "@jupyter-widgets/base",
            "_view_module_version": "1.2.0",
            "_view_name": "StyleView",
            "description_width": ""
          }
        },
        "4f76b57c857e4aa6a262be5adbd85609": {
          "model_module": "@jupyter-widgets/base",
          "model_name": "LayoutModel",
          "model_module_version": "1.2.0",
          "state": {
            "_model_module": "@jupyter-widgets/base",
            "_model_module_version": "1.2.0",
            "_model_name": "LayoutModel",
            "_view_count": null,
            "_view_module": "@jupyter-widgets/base",
            "_view_module_version": "1.2.0",
            "_view_name": "LayoutView",
            "align_content": null,
            "align_items": null,
            "align_self": null,
            "border": null,
            "bottom": null,
            "display": null,
            "flex": null,
            "flex_flow": null,
            "grid_area": null,
            "grid_auto_columns": null,
            "grid_auto_flow": null,
            "grid_auto_rows": null,
            "grid_column": null,
            "grid_gap": null,
            "grid_row": null,
            "grid_template_areas": null,
            "grid_template_columns": null,
            "grid_template_rows": null,
            "height": null,
            "justify_content": null,
            "justify_items": null,
            "left": null,
            "margin": null,
            "max_height": null,
            "max_width": null,
            "min_height": null,
            "min_width": null,
            "object_fit": null,
            "object_position": null,
            "order": null,
            "overflow": null,
            "overflow_x": null,
            "overflow_y": null,
            "padding": null,
            "right": null,
            "top": null,
            "visibility": null,
            "width": null
          }
        },
        "aee144feeab345f1a22c5653cca69cd3": {
          "model_module": "@jupyter-widgets/controls",
          "model_name": "ProgressStyleModel",
          "model_module_version": "1.5.0",
          "state": {
            "_model_module": "@jupyter-widgets/controls",
            "_model_module_version": "1.5.0",
            "_model_name": "ProgressStyleModel",
            "_view_count": null,
            "_view_module": "@jupyter-widgets/base",
            "_view_module_version": "1.2.0",
            "_view_name": "StyleView",
            "bar_color": null,
            "description_width": ""
          }
        },
        "68df4d7ba06a411c85136d88bedba685": {
          "model_module": "@jupyter-widgets/base",
          "model_name": "LayoutModel",
          "model_module_version": "1.2.0",
          "state": {
            "_model_module": "@jupyter-widgets/base",
            "_model_module_version": "1.2.0",
            "_model_name": "LayoutModel",
            "_view_count": null,
            "_view_module": "@jupyter-widgets/base",
            "_view_module_version": "1.2.0",
            "_view_name": "LayoutView",
            "align_content": null,
            "align_items": null,
            "align_self": null,
            "border": null,
            "bottom": null,
            "display": null,
            "flex": null,
            "flex_flow": null,
            "grid_area": null,
            "grid_auto_columns": null,
            "grid_auto_flow": null,
            "grid_auto_rows": null,
            "grid_column": null,
            "grid_gap": null,
            "grid_row": null,
            "grid_template_areas": null,
            "grid_template_columns": null,
            "grid_template_rows": null,
            "height": null,
            "justify_content": null,
            "justify_items": null,
            "left": null,
            "margin": null,
            "max_height": null,
            "max_width": null,
            "min_height": null,
            "min_width": null,
            "object_fit": null,
            "object_position": null,
            "order": null,
            "overflow": null,
            "overflow_x": null,
            "overflow_y": null,
            "padding": null,
            "right": null,
            "top": null,
            "visibility": null,
            "width": null
          }
        },
        "e7c76a07130b4a379d77ef70286405db": {
          "model_module": "@jupyter-widgets/controls",
          "model_name": "DescriptionStyleModel",
          "model_module_version": "1.5.0",
          "state": {
            "_model_module": "@jupyter-widgets/controls",
            "_model_module_version": "1.5.0",
            "_model_name": "DescriptionStyleModel",
            "_view_count": null,
            "_view_module": "@jupyter-widgets/base",
            "_view_module_version": "1.2.0",
            "_view_name": "StyleView",
            "description_width": ""
          }
        },
        "6542bd6a995347bda54bc4ca2c61b336": {
          "model_module": "@jupyter-widgets/controls",
          "model_name": "HBoxModel",
          "model_module_version": "1.5.0",
          "state": {
            "_dom_classes": [],
            "_model_module": "@jupyter-widgets/controls",
            "_model_module_version": "1.5.0",
            "_model_name": "HBoxModel",
            "_view_count": null,
            "_view_module": "@jupyter-widgets/controls",
            "_view_module_version": "1.5.0",
            "_view_name": "HBoxView",
            "box_style": "",
            "children": [
              "IPY_MODEL_625765d76d85414b87ea9e763ec422b1",
              "IPY_MODEL_b64eac290b1e4965add7be9803617195",
              "IPY_MODEL_b6eefb29808b4f97addfee9890a8a04b"
            ],
            "layout": "IPY_MODEL_f7e698e132ed4ca18f8926de135ce123"
          }
        },
        "625765d76d85414b87ea9e763ec422b1": {
          "model_module": "@jupyter-widgets/controls",
          "model_name": "HTMLModel",
          "model_module_version": "1.5.0",
          "state": {
            "_dom_classes": [],
            "_model_module": "@jupyter-widgets/controls",
            "_model_module_version": "1.5.0",
            "_model_name": "HTMLModel",
            "_view_count": null,
            "_view_module": "@jupyter-widgets/controls",
            "_view_module_version": "1.5.0",
            "_view_name": "HTMLView",
            "description": "",
            "description_tooltip": null,
            "layout": "IPY_MODEL_8d34f5387d6c40abaa226dae1a6ff8a3",
            "placeholder": "​",
            "style": "IPY_MODEL_2aba24b051da47d5a695c66316473000",
            "value": "Loading checkpoint shards: 100%"
          }
        },
        "b64eac290b1e4965add7be9803617195": {
          "model_module": "@jupyter-widgets/controls",
          "model_name": "FloatProgressModel",
          "model_module_version": "1.5.0",
          "state": {
            "_dom_classes": [],
            "_model_module": "@jupyter-widgets/controls",
            "_model_module_version": "1.5.0",
            "_model_name": "FloatProgressModel",
            "_view_count": null,
            "_view_module": "@jupyter-widgets/controls",
            "_view_module_version": "1.5.0",
            "_view_name": "ProgressView",
            "bar_style": "success",
            "description": "",
            "description_tooltip": null,
            "layout": "IPY_MODEL_30e9a5496c974f3dae6dada721e23868",
            "max": 3,
            "min": 0,
            "orientation": "horizontal",
            "style": "IPY_MODEL_070b5691b2f946e880b428473826378a",
            "value": 3
          }
        },
        "b6eefb29808b4f97addfee9890a8a04b": {
          "model_module": "@jupyter-widgets/controls",
          "model_name": "HTMLModel",
          "model_module_version": "1.5.0",
          "state": {
            "_dom_classes": [],
            "_model_module": "@jupyter-widgets/controls",
            "_model_module_version": "1.5.0",
            "_model_name": "HTMLModel",
            "_view_count": null,
            "_view_module": "@jupyter-widgets/controls",
            "_view_module_version": "1.5.0",
            "_view_name": "HTMLView",
            "description": "",
            "description_tooltip": null,
            "layout": "IPY_MODEL_3a63979faacc4f68b610b4f9407ea846",
            "placeholder": "​",
            "style": "IPY_MODEL_fdf828e15afc4bcaaf0b30ad9f64f41a",
            "value": " 3/3 [01:11&lt;00:00, 23.66s/it]"
          }
        },
        "f7e698e132ed4ca18f8926de135ce123": {
          "model_module": "@jupyter-widgets/base",
          "model_name": "LayoutModel",
          "model_module_version": "1.2.0",
          "state": {
            "_model_module": "@jupyter-widgets/base",
            "_model_module_version": "1.2.0",
            "_model_name": "LayoutModel",
            "_view_count": null,
            "_view_module": "@jupyter-widgets/base",
            "_view_module_version": "1.2.0",
            "_view_name": "LayoutView",
            "align_content": null,
            "align_items": null,
            "align_self": null,
            "border": null,
            "bottom": null,
            "display": null,
            "flex": null,
            "flex_flow": null,
            "grid_area": null,
            "grid_auto_columns": null,
            "grid_auto_flow": null,
            "grid_auto_rows": null,
            "grid_column": null,
            "grid_gap": null,
            "grid_row": null,
            "grid_template_areas": null,
            "grid_template_columns": null,
            "grid_template_rows": null,
            "height": null,
            "justify_content": null,
            "justify_items": null,
            "left": null,
            "margin": null,
            "max_height": null,
            "max_width": null,
            "min_height": null,
            "min_width": null,
            "object_fit": null,
            "object_position": null,
            "order": null,
            "overflow": null,
            "overflow_x": null,
            "overflow_y": null,
            "padding": null,
            "right": null,
            "top": null,
            "visibility": null,
            "width": null
          }
        },
        "8d34f5387d6c40abaa226dae1a6ff8a3": {
          "model_module": "@jupyter-widgets/base",
          "model_name": "LayoutModel",
          "model_module_version": "1.2.0",
          "state": {
            "_model_module": "@jupyter-widgets/base",
            "_model_module_version": "1.2.0",
            "_model_name": "LayoutModel",
            "_view_count": null,
            "_view_module": "@jupyter-widgets/base",
            "_view_module_version": "1.2.0",
            "_view_name": "LayoutView",
            "align_content": null,
            "align_items": null,
            "align_self": null,
            "border": null,
            "bottom": null,
            "display": null,
            "flex": null,
            "flex_flow": null,
            "grid_area": null,
            "grid_auto_columns": null,
            "grid_auto_flow": null,
            "grid_auto_rows": null,
            "grid_column": null,
            "grid_gap": null,
            "grid_row": null,
            "grid_template_areas": null,
            "grid_template_columns": null,
            "grid_template_rows": null,
            "height": null,
            "justify_content": null,
            "justify_items": null,
            "left": null,
            "margin": null,
            "max_height": null,
            "max_width": null,
            "min_height": null,
            "min_width": null,
            "object_fit": null,
            "object_position": null,
            "order": null,
            "overflow": null,
            "overflow_x": null,
            "overflow_y": null,
            "padding": null,
            "right": null,
            "top": null,
            "visibility": null,
            "width": null
          }
        },
        "2aba24b051da47d5a695c66316473000": {
          "model_module": "@jupyter-widgets/controls",
          "model_name": "DescriptionStyleModel",
          "model_module_version": "1.5.0",
          "state": {
            "_model_module": "@jupyter-widgets/controls",
            "_model_module_version": "1.5.0",
            "_model_name": "DescriptionStyleModel",
            "_view_count": null,
            "_view_module": "@jupyter-widgets/base",
            "_view_module_version": "1.2.0",
            "_view_name": "StyleView",
            "description_width": ""
          }
        },
        "30e9a5496c974f3dae6dada721e23868": {
          "model_module": "@jupyter-widgets/base",
          "model_name": "LayoutModel",
          "model_module_version": "1.2.0",
          "state": {
            "_model_module": "@jupyter-widgets/base",
            "_model_module_version": "1.2.0",
            "_model_name": "LayoutModel",
            "_view_count": null,
            "_view_module": "@jupyter-widgets/base",
            "_view_module_version": "1.2.0",
            "_view_name": "LayoutView",
            "align_content": null,
            "align_items": null,
            "align_self": null,
            "border": null,
            "bottom": null,
            "display": null,
            "flex": null,
            "flex_flow": null,
            "grid_area": null,
            "grid_auto_columns": null,
            "grid_auto_flow": null,
            "grid_auto_rows": null,
            "grid_column": null,
            "grid_gap": null,
            "grid_row": null,
            "grid_template_areas": null,
            "grid_template_columns": null,
            "grid_template_rows": null,
            "height": null,
            "justify_content": null,
            "justify_items": null,
            "left": null,
            "margin": null,
            "max_height": null,
            "max_width": null,
            "min_height": null,
            "min_width": null,
            "object_fit": null,
            "object_position": null,
            "order": null,
            "overflow": null,
            "overflow_x": null,
            "overflow_y": null,
            "padding": null,
            "right": null,
            "top": null,
            "visibility": null,
            "width": null
          }
        },
        "070b5691b2f946e880b428473826378a": {
          "model_module": "@jupyter-widgets/controls",
          "model_name": "ProgressStyleModel",
          "model_module_version": "1.5.0",
          "state": {
            "_model_module": "@jupyter-widgets/controls",
            "_model_module_version": "1.5.0",
            "_model_name": "ProgressStyleModel",
            "_view_count": null,
            "_view_module": "@jupyter-widgets/base",
            "_view_module_version": "1.2.0",
            "_view_name": "StyleView",
            "bar_color": null,
            "description_width": ""
          }
        },
        "3a63979faacc4f68b610b4f9407ea846": {
          "model_module": "@jupyter-widgets/base",
          "model_name": "LayoutModel",
          "model_module_version": "1.2.0",
          "state": {
            "_model_module": "@jupyter-widgets/base",
            "_model_module_version": "1.2.0",
            "_model_name": "LayoutModel",
            "_view_count": null,
            "_view_module": "@jupyter-widgets/base",
            "_view_module_version": "1.2.0",
            "_view_name": "LayoutView",
            "align_content": null,
            "align_items": null,
            "align_self": null,
            "border": null,
            "bottom": null,
            "display": null,
            "flex": null,
            "flex_flow": null,
            "grid_area": null,
            "grid_auto_columns": null,
            "grid_auto_flow": null,
            "grid_auto_rows": null,
            "grid_column": null,
            "grid_gap": null,
            "grid_row": null,
            "grid_template_areas": null,
            "grid_template_columns": null,
            "grid_template_rows": null,
            "height": null,
            "justify_content": null,
            "justify_items": null,
            "left": null,
            "margin": null,
            "max_height": null,
            "max_width": null,
            "min_height": null,
            "min_width": null,
            "object_fit": null,
            "object_position": null,
            "order": null,
            "overflow": null,
            "overflow_x": null,
            "overflow_y": null,
            "padding": null,
            "right": null,
            "top": null,
            "visibility": null,
            "width": null
          }
        },
        "fdf828e15afc4bcaaf0b30ad9f64f41a": {
          "model_module": "@jupyter-widgets/controls",
          "model_name": "DescriptionStyleModel",
          "model_module_version": "1.5.0",
          "state": {
            "_model_module": "@jupyter-widgets/controls",
            "_model_module_version": "1.5.0",
            "_model_name": "DescriptionStyleModel",
            "_view_count": null,
            "_view_module": "@jupyter-widgets/base",
            "_view_module_version": "1.2.0",
            "_view_name": "StyleView",
            "description_width": ""
          }
        },
        "731b50c6ed6a41b1811181add331eeb6": {
          "model_module": "@jupyter-widgets/controls",
          "model_name": "HBoxModel",
          "model_module_version": "1.5.0",
          "state": {
            "_dom_classes": [],
            "_model_module": "@jupyter-widgets/controls",
            "_model_module_version": "1.5.0",
            "_model_name": "HBoxModel",
            "_view_count": null,
            "_view_module": "@jupyter-widgets/controls",
            "_view_module_version": "1.5.0",
            "_view_name": "HBoxView",
            "box_style": "",
            "children": [
              "IPY_MODEL_cdf2861f39f3400cbc951f8b35272e9a",
              "IPY_MODEL_081402813bdf469ea1503dff9d1f9ce7",
              "IPY_MODEL_d256e3128c674d93871a084dca558c80"
            ],
            "layout": "IPY_MODEL_85fddb5a55f2488099a55507373a65cf"
          }
        },
        "cdf2861f39f3400cbc951f8b35272e9a": {
          "model_module": "@jupyter-widgets/controls",
          "model_name": "HTMLModel",
          "model_module_version": "1.5.0",
          "state": {
            "_dom_classes": [],
            "_model_module": "@jupyter-widgets/controls",
            "_model_module_version": "1.5.0",
            "_model_name": "HTMLModel",
            "_view_count": null,
            "_view_module": "@jupyter-widgets/controls",
            "_view_module_version": "1.5.0",
            "_view_name": "HTMLView",
            "description": "",
            "description_tooltip": null,
            "layout": "IPY_MODEL_675fa268c96840b099d577e6dde48c32",
            "placeholder": "​",
            "style": "IPY_MODEL_4c5f5ceec751439d8f220b4bb47de5c2",
            "value": "generation_config.json: 100%"
          }
        },
        "081402813bdf469ea1503dff9d1f9ce7": {
          "model_module": "@jupyter-widgets/controls",
          "model_name": "FloatProgressModel",
          "model_module_version": "1.5.0",
          "state": {
            "_dom_classes": [],
            "_model_module": "@jupyter-widgets/controls",
            "_model_module_version": "1.5.0",
            "_model_name": "FloatProgressModel",
            "_view_count": null,
            "_view_module": "@jupyter-widgets/controls",
            "_view_module_version": "1.5.0",
            "_view_name": "ProgressView",
            "bar_style": "success",
            "description": "",
            "description_tooltip": null,
            "layout": "IPY_MODEL_e136f5d9855b4dc5b1fedd698ccc1b33",
            "max": 116,
            "min": 0,
            "orientation": "horizontal",
            "style": "IPY_MODEL_301b76e5c12d450fa51e7ba5c871e6f2",
            "value": 116
          }
        },
        "d256e3128c674d93871a084dca558c80": {
          "model_module": "@jupyter-widgets/controls",
          "model_name": "HTMLModel",
          "model_module_version": "1.5.0",
          "state": {
            "_dom_classes": [],
            "_model_module": "@jupyter-widgets/controls",
            "_model_module_version": "1.5.0",
            "_model_name": "HTMLModel",
            "_view_count": null,
            "_view_module": "@jupyter-widgets/controls",
            "_view_module_version": "1.5.0",
            "_view_name": "HTMLView",
            "description": "",
            "description_tooltip": null,
            "layout": "IPY_MODEL_6ea8fcf213ff4f94b4ed0e9a55517a3d",
            "placeholder": "​",
            "style": "IPY_MODEL_f647db1fd6664cbaafff12ea4eb3b801",
            "value": " 116/116 [00:00&lt;00:00, 10.4kB/s]"
          }
        },
        "85fddb5a55f2488099a55507373a65cf": {
          "model_module": "@jupyter-widgets/base",
          "model_name": "LayoutModel",
          "model_module_version": "1.2.0",
          "state": {
            "_model_module": "@jupyter-widgets/base",
            "_model_module_version": "1.2.0",
            "_model_name": "LayoutModel",
            "_view_count": null,
            "_view_module": "@jupyter-widgets/base",
            "_view_module_version": "1.2.0",
            "_view_name": "LayoutView",
            "align_content": null,
            "align_items": null,
            "align_self": null,
            "border": null,
            "bottom": null,
            "display": null,
            "flex": null,
            "flex_flow": null,
            "grid_area": null,
            "grid_auto_columns": null,
            "grid_auto_flow": null,
            "grid_auto_rows": null,
            "grid_column": null,
            "grid_gap": null,
            "grid_row": null,
            "grid_template_areas": null,
            "grid_template_columns": null,
            "grid_template_rows": null,
            "height": null,
            "justify_content": null,
            "justify_items": null,
            "left": null,
            "margin": null,
            "max_height": null,
            "max_width": null,
            "min_height": null,
            "min_width": null,
            "object_fit": null,
            "object_position": null,
            "order": null,
            "overflow": null,
            "overflow_x": null,
            "overflow_y": null,
            "padding": null,
            "right": null,
            "top": null,
            "visibility": null,
            "width": null
          }
        },
        "675fa268c96840b099d577e6dde48c32": {
          "model_module": "@jupyter-widgets/base",
          "model_name": "LayoutModel",
          "model_module_version": "1.2.0",
          "state": {
            "_model_module": "@jupyter-widgets/base",
            "_model_module_version": "1.2.0",
            "_model_name": "LayoutModel",
            "_view_count": null,
            "_view_module": "@jupyter-widgets/base",
            "_view_module_version": "1.2.0",
            "_view_name": "LayoutView",
            "align_content": null,
            "align_items": null,
            "align_self": null,
            "border": null,
            "bottom": null,
            "display": null,
            "flex": null,
            "flex_flow": null,
            "grid_area": null,
            "grid_auto_columns": null,
            "grid_auto_flow": null,
            "grid_auto_rows": null,
            "grid_column": null,
            "grid_gap": null,
            "grid_row": null,
            "grid_template_areas": null,
            "grid_template_columns": null,
            "grid_template_rows": null,
            "height": null,
            "justify_content": null,
            "justify_items": null,
            "left": null,
            "margin": null,
            "max_height": null,
            "max_width": null,
            "min_height": null,
            "min_width": null,
            "object_fit": null,
            "object_position": null,
            "order": null,
            "overflow": null,
            "overflow_x": null,
            "overflow_y": null,
            "padding": null,
            "right": null,
            "top": null,
            "visibility": null,
            "width": null
          }
        },
        "4c5f5ceec751439d8f220b4bb47de5c2": {
          "model_module": "@jupyter-widgets/controls",
          "model_name": "DescriptionStyleModel",
          "model_module_version": "1.5.0",
          "state": {
            "_model_module": "@jupyter-widgets/controls",
            "_model_module_version": "1.5.0",
            "_model_name": "DescriptionStyleModel",
            "_view_count": null,
            "_view_module": "@jupyter-widgets/base",
            "_view_module_version": "1.2.0",
            "_view_name": "StyleView",
            "description_width": ""
          }
        },
        "e136f5d9855b4dc5b1fedd698ccc1b33": {
          "model_module": "@jupyter-widgets/base",
          "model_name": "LayoutModel",
          "model_module_version": "1.2.0",
          "state": {
            "_model_module": "@jupyter-widgets/base",
            "_model_module_version": "1.2.0",
            "_model_name": "LayoutModel",
            "_view_count": null,
            "_view_module": "@jupyter-widgets/base",
            "_view_module_version": "1.2.0",
            "_view_name": "LayoutView",
            "align_content": null,
            "align_items": null,
            "align_self": null,
            "border": null,
            "bottom": null,
            "display": null,
            "flex": null,
            "flex_flow": null,
            "grid_area": null,
            "grid_auto_columns": null,
            "grid_auto_flow": null,
            "grid_auto_rows": null,
            "grid_column": null,
            "grid_gap": null,
            "grid_row": null,
            "grid_template_areas": null,
            "grid_template_columns": null,
            "grid_template_rows": null,
            "height": null,
            "justify_content": null,
            "justify_items": null,
            "left": null,
            "margin": null,
            "max_height": null,
            "max_width": null,
            "min_height": null,
            "min_width": null,
            "object_fit": null,
            "object_position": null,
            "order": null,
            "overflow": null,
            "overflow_x": null,
            "overflow_y": null,
            "padding": null,
            "right": null,
            "top": null,
            "visibility": null,
            "width": null
          }
        },
        "301b76e5c12d450fa51e7ba5c871e6f2": {
          "model_module": "@jupyter-widgets/controls",
          "model_name": "ProgressStyleModel",
          "model_module_version": "1.5.0",
          "state": {
            "_model_module": "@jupyter-widgets/controls",
            "_model_module_version": "1.5.0",
            "_model_name": "ProgressStyleModel",
            "_view_count": null,
            "_view_module": "@jupyter-widgets/base",
            "_view_module_version": "1.2.0",
            "_view_name": "StyleView",
            "bar_color": null,
            "description_width": ""
          }
        },
        "6ea8fcf213ff4f94b4ed0e9a55517a3d": {
          "model_module": "@jupyter-widgets/base",
          "model_name": "LayoutModel",
          "model_module_version": "1.2.0",
          "state": {
            "_model_module": "@jupyter-widgets/base",
            "_model_module_version": "1.2.0",
            "_model_name": "LayoutModel",
            "_view_count": null,
            "_view_module": "@jupyter-widgets/base",
            "_view_module_version": "1.2.0",
            "_view_name": "LayoutView",
            "align_content": null,
            "align_items": null,
            "align_self": null,
            "border": null,
            "bottom": null,
            "display": null,
            "flex": null,
            "flex_flow": null,
            "grid_area": null,
            "grid_auto_columns": null,
            "grid_auto_flow": null,
            "grid_auto_rows": null,
            "grid_column": null,
            "grid_gap": null,
            "grid_row": null,
            "grid_template_areas": null,
            "grid_template_columns": null,
            "grid_template_rows": null,
            "height": null,
            "justify_content": null,
            "justify_items": null,
            "left": null,
            "margin": null,
            "max_height": null,
            "max_width": null,
            "min_height": null,
            "min_width": null,
            "object_fit": null,
            "object_position": null,
            "order": null,
            "overflow": null,
            "overflow_x": null,
            "overflow_y": null,
            "padding": null,
            "right": null,
            "top": null,
            "visibility": null,
            "width": null
          }
        },
        "f647db1fd6664cbaafff12ea4eb3b801": {
          "model_module": "@jupyter-widgets/controls",
          "model_name": "DescriptionStyleModel",
          "model_module_version": "1.5.0",
          "state": {
            "_model_module": "@jupyter-widgets/controls",
            "_model_module_version": "1.5.0",
            "_model_name": "DescriptionStyleModel",
            "_view_count": null,
            "_view_module": "@jupyter-widgets/base",
            "_view_module_version": "1.2.0",
            "_view_name": "StyleView",
            "description_width": ""
          }
        },
        "ff13a19084864a409de04bd3d67d1e0e": {
          "model_module": "@jupyter-widgets/controls",
          "model_name": "TextModel",
          "model_module_version": "1.5.0",
          "state": {
            "_dom_classes": [],
            "_model_module": "@jupyter-widgets/controls",
            "_model_module_version": "1.5.0",
            "_model_name": "TextModel",
            "_view_count": null,
            "_view_module": "@jupyter-widgets/controls",
            "_view_module_version": "1.5.0",
            "_view_name": "TextView",
            "continuous_update": true,
            "description": "You:",
            "description_tooltip": null,
            "disabled": false,
            "layout": "IPY_MODEL_c4fda4d628d04ae3b7967bbba521161d",
            "placeholder": "Ask a question about Harry Potter...",
            "style": "IPY_MODEL_e3b180e93dfc46659e9f5167c722d4a1",
            "value": ""
          }
        },
        "c4fda4d628d04ae3b7967bbba521161d": {
          "model_module": "@jupyter-widgets/base",
          "model_name": "LayoutModel",
          "model_module_version": "1.2.0",
          "state": {
            "_model_module": "@jupyter-widgets/base",
            "_model_module_version": "1.2.0",
            "_model_name": "LayoutModel",
            "_view_count": null,
            "_view_module": "@jupyter-widgets/base",
            "_view_module_version": "1.2.0",
            "_view_name": "LayoutView",
            "align_content": null,
            "align_items": null,
            "align_self": null,
            "border": null,
            "bottom": null,
            "display": null,
            "flex": null,
            "flex_flow": null,
            "grid_area": null,
            "grid_auto_columns": null,
            "grid_auto_flow": null,
            "grid_auto_rows": null,
            "grid_column": null,
            "grid_gap": null,
            "grid_row": null,
            "grid_template_areas": null,
            "grid_template_columns": null,
            "grid_template_rows": null,
            "height": null,
            "justify_content": null,
            "justify_items": null,
            "left": null,
            "margin": null,
            "max_height": null,
            "max_width": null,
            "min_height": null,
            "min_width": null,
            "object_fit": null,
            "object_position": null,
            "order": null,
            "overflow": null,
            "overflow_x": null,
            "overflow_y": null,
            "padding": null,
            "right": null,
            "top": null,
            "visibility": null,
            "width": "100%"
          }
        },
        "e3b180e93dfc46659e9f5167c722d4a1": {
          "model_module": "@jupyter-widgets/controls",
          "model_name": "DescriptionStyleModel",
          "model_module_version": "1.5.0",
          "state": {
            "_model_module": "@jupyter-widgets/controls",
            "_model_module_version": "1.5.0",
            "_model_name": "DescriptionStyleModel",
            "_view_count": null,
            "_view_module": "@jupyter-widgets/base",
            "_view_module_version": "1.2.0",
            "_view_name": "StyleView",
            "description_width": ""
          }
        },
        "31bbf0a2fe704bfaae91cc734233ac10": {
          "model_module": "@jupyter-widgets/controls",
          "model_name": "ButtonModel",
          "model_module_version": "1.5.0",
          "state": {
            "_dom_classes": [],
            "_model_module": "@jupyter-widgets/controls",
            "_model_module_version": "1.5.0",
            "_model_name": "ButtonModel",
            "_view_count": null,
            "_view_module": "@jupyter-widgets/controls",
            "_view_module_version": "1.5.0",
            "_view_name": "ButtonView",
            "button_style": "primary",
            "description": "Send",
            "disabled": false,
            "icon": "",
            "layout": "IPY_MODEL_5eb28728bd6a4475887c34d562b1239c",
            "style": "IPY_MODEL_a4d6443ee4ad4050a2159524c8fdba08",
            "tooltip": ""
          }
        },
        "5eb28728bd6a4475887c34d562b1239c": {
          "model_module": "@jupyter-widgets/base",
          "model_name": "LayoutModel",
          "model_module_version": "1.2.0",
          "state": {
            "_model_module": "@jupyter-widgets/base",
            "_model_module_version": "1.2.0",
            "_model_name": "LayoutModel",
            "_view_count": null,
            "_view_module": "@jupyter-widgets/base",
            "_view_module_version": "1.2.0",
            "_view_name": "LayoutView",
            "align_content": null,
            "align_items": null,
            "align_self": null,
            "border": null,
            "bottom": null,
            "display": null,
            "flex": null,
            "flex_flow": null,
            "grid_area": null,
            "grid_auto_columns": null,
            "grid_auto_flow": null,
            "grid_auto_rows": null,
            "grid_column": null,
            "grid_gap": null,
            "grid_row": null,
            "grid_template_areas": null,
            "grid_template_columns": null,
            "grid_template_rows": null,
            "height": null,
            "justify_content": null,
            "justify_items": null,
            "left": null,
            "margin": null,
            "max_height": null,
            "max_width": null,
            "min_height": null,
            "min_width": null,
            "object_fit": null,
            "object_position": null,
            "order": null,
            "overflow": null,
            "overflow_x": null,
            "overflow_y": null,
            "padding": null,
            "right": null,
            "top": null,
            "visibility": null,
            "width": null
          }
        },
        "a4d6443ee4ad4050a2159524c8fdba08": {
          "model_module": "@jupyter-widgets/controls",
          "model_name": "ButtonStyleModel",
          "model_module_version": "1.5.0",
          "state": {
            "_model_module": "@jupyter-widgets/controls",
            "_model_module_version": "1.5.0",
            "_model_name": "ButtonStyleModel",
            "_view_count": null,
            "_view_module": "@jupyter-widgets/base",
            "_view_module_version": "1.2.0",
            "_view_name": "StyleView",
            "button_color": null,
            "font_weight": ""
          }
        },
        "79b76be2e6384033ab89a1eacfe6baad": {
          "model_module": "@jupyter-widgets/output",
          "model_name": "OutputModel",
          "model_module_version": "1.0.0",
          "state": {
            "_dom_classes": [],
            "_model_module": "@jupyter-widgets/output",
            "_model_module_version": "1.0.0",
            "_model_name": "OutputModel",
            "_view_count": null,
            "_view_module": "@jupyter-widgets/output",
            "_view_module_version": "1.0.0",
            "_view_name": "OutputView",
            "layout": "IPY_MODEL_e3df22c1cfc04d5ba6db63b17094d0f1",
            "msg_id": "",
            "outputs": [
              {
                "output_type": "stream",
                "name": "stderr",
                "text": [
                  "Setting `pad_token_id` to `eos_token_id`:2 for open-end generation.\n"
                ]
              },
              {
                "output_type": "stream",
                "name": "stdout",
                "text": [
                  "You: who is albus dumbledore?\n"
                ]
              },
              {
                "output_type": "stream",
                "name": "stdout",
                "text": [
                  "Bot: Using the following context information provide the response to the question.\n",
                  "\n",
                  "Context:\n",
                  "page_content='flowing silver hair, beard, and mustache. Underneath the picture was the name Albus Dumbledore. “So this is Dumbledore!” said Harry. “Don’t tell me you’d never heard of Dumbledore!” said Ron. “Can I have a frog? I might get Agrippa — thanks —” Harry turned over his card and read: ALBUS DUMBLEDORE CURRENTLY HEADMASTER OF HOGWARTS C onsidered by many the greatest wizard of modern times, Dumbledore is particularly famous for his defeat of the Dark wizard Grindelwald in 1945, for the discovery of the twelve'\n",
                  "\n",
                  "page_content='Nothing like this man had ever been seen on Privet Drive. He was tall, thin, and very old, judging by the silver of his hair and beard, which were both long enough to tuck into his belt. He was wearing long robes, a purple cloak that swept the ground, and high-heeled, buckled boots. His blue eyes were light, bright, and sparkling behind half-moon spectacles and his nose was very long and crooked, as though it had been broken at least twice. This man’s name was Albus Dumbledore. Albus Dumbledore didn’t seem'\n",
                  "\n",
                  "page_content='book!” laughs Skeeter. “But I can promise that anybody who still thinks Dumbledore was white as his beard is in for a rude awakening! Let’s just say that nobody hearing him rage against You-Know-Who would have dreamed that he dabbled in the Dark Arts himself in his youth! And for a wizard who spent his later years pleading for tolerance, he wasn’t exactly broad-minded when he was younger! Yes, Albus Dumbledore had an extremely murky past, not to mention that very fishy family, which he worked so hard to'\n",
                  "\n",
                  "Question:\n",
                  "who is albus dumbledore?\n",
                  "\n",
                  "Response:\n",
                  "Albus Dumbledore is a well-known wizard, current Headmaster of Hogwarts, and considered by many the greatest wizard of modern times. He is famous for his defeat of the Dark wizard Grindelwald in 1945 and for the discovery of the twelve. Despite his reputation for tolerance in his later years, he had a murky past and was not broad-minded when he was younger. He is described as a tall, thin, and very old man with silver hair, a beard, and mustache. He wears long robes, a purple cloak, and high-heeled, buckled boots, and has light, bright, and sparkling blue eyes behind half-moon spectacles, and a long and crooked nose.\n",
                  "\n"
                ]
              },
              {
                "output_type": "stream",
                "name": "stderr",
                "text": [
                  "You seem to be using the pipelines sequentially on GPU. In order to maximize efficiency please use a dataset\n"
                ]
              },
              {
                "output_type": "stream",
                "name": "stderr",
                "text": [
                  "Setting `pad_token_id` to `eos_token_id`:2 for open-end generation.\n"
                ]
              },
              {
                "output_type": "stream",
                "name": "stdout",
                "text": [
                  "You: who is peeves?\n"
                ]
              },
              {
                "output_type": "stream",
                "name": "stdout",
                "text": [
                  "Bot: Using the following context information provide the response to the question.\n",
                  "\n",
                  "Context:\n",
                  "page_content='of them and gave a squeal of delight. “Shut up, Peeves — please — you’ll get us thrown out.” Peeves cackled. “Wandering around at midnight, Ickle Firsties? Tut, tut, tut. Naughty, naughty, you’ll get caughty.” “Not if you don’t give us away, Peeves, please.” “Should tell Filch, I should,” said Peeves in a saintly voice, but his eyes glittered wickedly. “It’s for your own good, you know.” “Get out of the way,” snapped Ron, taking a swipe at Peeves — this was a big mistake. “STUDENTS OUT OF BED!” Peeves'\n",
                  "\n",
                  "page_content='really control Peeves. “Yeah, we thought Peeves seemed hacked off about something,” said Ron darkly. “So what did he do in the kitchens?” “Oh the usual,” said Nearly Headless Nick, shrugging. “Wreaked havoc and mayhem. Pots and pans everywhere. Place swimming in soup. Terrified the house-elves out of their wits —” Clang. Hermione had knocked over her golden goblet. Pumpkin juice spread steadily over the tablecloth, staining several feet of white linen orange, but Hermione paid no attention. “There are'\n",
                  "\n",
                  "page_content='clutched tight in his hand, and turning a corner walked slap into Peeves the Poltergeist, a wide-faced little man floating on his back in midair, juggling several inkwells. “Why, it’s Potty Wee Potter!” cackled Peeves, allowing two of the inkwells to fall to the ground where they smashed and spattered the walls with ink; Harry jumped backward out of the way with a snarl. “Get out of it, Peeves.” “Oooh, Crackpot’s feeling cranky,” said Peeves, pursuing Harry along the corridor, leering as he zoomed along'\n",
                  "\n",
                  "Question:\n",
                  "who is peeves?\n",
                  "\n",
                  "Response:\n",
                  "Peeves is a poltergeist.\n",
                  "\n"
                ]
              },
              {
                "output_type": "stream",
                "name": "stderr",
                "text": [
                  "Setting `pad_token_id` to `eos_token_id`:2 for open-end generation.\n"
                ]
              },
              {
                "output_type": "stream",
                "name": "stdout",
                "text": [
                  "You: how you can get to the terminal 9 3/4?\n"
                ]
              },
              {
                "output_type": "stream",
                "name": "stdout",
                "text": [
                  "Bot: Using the following context information provide the response to the question.\n",
                  "\n",
                  "Context:\n",
                  "page_content='big hands and feet, and a long nose. “Yes,” said Harry. “The thing is — the thing is, I don’t know how to —” “How to get onto the platform?” she said kindly, and Harry nodded. “Not to worry,” she said. “All you have to do is walk straight at the barrier between platforms nine and ten. Don’t stop and don’t be scared you’ll crash into it, that’s very important. Best do it at a bit of a run if you’re nervous. Go on, go now before Ron.” “Er — okay,” said Harry. He pushed his trolley around and stared at the'\n",
                  "\n",
                  "page_content='— then we fly above the clouds. We’d be there in ten minutes and no one would be any the wiser —” “I said no, Arthur, not in broad daylight —” They reached King’s Cross at a quarter to eleven. Mr. Weasley dashed across the road to get trolleys for their trunks and they all hurried into the station. Harry had caught the Hogwarts Express the previous year. The tricky part was getting onto platform nine and three-quarters, which wasn’t visible to the'\n",
                  "\n",
                  "page_content='E CHAPTER NINE A PLACE TO HIDE verything seemed fuzzy, slow. Harry and Hermione jumped to their feet and drew their wands. Many people were only just realizing that something strange had happened; heads were still turning toward the silver cat as it vanished. Silence spread outward in cold ripples from the place where the Patronus had landed. Then somebody screamed. Harry and Hermione threw themselves into the panicking crowd. Guests were sprinting in all directions; many were Disapparating; the protective'\n",
                  "\n",
                  "Question:\n",
                  "how you can get to the terminal 9 3/4?\n",
                  "\n",
                  "Response:\n",
                  "To get to platform 9 3/4, you should walk straight at the barrier between platforms nine and ten. Don't stop and don't be scared you'll crash into it, that's very important. It is recommended to do it at a bit of a run if you're nervous.\n",
                  "\n"
                ]
              },
              {
                "output_type": "stream",
                "name": "stderr",
                "text": [
                  "Setting `pad_token_id` to `eos_token_id`:2 for open-end generation.\n"
                ]
              },
              {
                "output_type": "stream",
                "name": "stdout",
                "text": [
                  "You: where does harry potter live?\n"
                ]
              },
              {
                "output_type": "stream",
                "name": "stdout",
                "text": [
                  "Bot: Using the following context information provide the response to the question.\n",
                  "\n",
                  "Context:\n",
                  "page_content='I belong in your world — at Hogwarts.” “No, no, no,” squeaked Dobby, shaking his head so hard his ears flapped. “Harry Potter must stay where he is safe. He is too great, too good, to lose. If Harry Potter goes back to Hogwarts, he will be in mortal danger.” “Why?” said Harry in surprise.'\n",
                  "\n",
                  "page_content='Alley. This didn’t help, as Harry had never heard of such a place. He supposed he hadn’t spoken clearly enough through his mouthful of ashes back in the Weasleys’ fire. Trying to stay calm, he wondered what to do. “Not lost are you, my dear?” said a voice in his ear, making him jump. An aged witch stood in front of him, holding a tray of what looked horribly like whole human fingernails. She leered at him, showing mossy teeth. Harry backed away.'\n",
                  "\n",
                  "page_content='dreary litany, those locations they knew that Voldemort had lived or visited. The orphanage where he had been born and raised; Hogwarts, where he had been'\n",
                  "\n",
                  "Question:\n",
                  "where does harry potter live?\n",
                  "\n",
                  "Response:\n",
                  "Harry Potter lives where he is safe, which is not specified in the context provided.\n",
                  "\n"
                ]
              },
              {
                "output_type": "stream",
                "name": "stderr",
                "text": [
                  "Setting `pad_token_id` to `eos_token_id`:2 for open-end generation.\n"
                ]
              },
              {
                "output_type": "stream",
                "name": "stdout",
                "text": [
                  "You: what is harry potter proffession?\n"
                ]
              },
              {
                "output_type": "stream",
                "name": "stdout",
                "text": [
                  "Bot: Using the following context information provide the response to the question.\n",
                  "\n",
                  "Context:\n",
                  "page_content='to sack Arthur Weasley for years. . . . And as for Potter . . . My father says it’s a matter of'\n",
                  "\n",
                  "page_content='they release him?” “He did a deal with the Ministry of Magic,” said Sirius bitterly. “He said he’d seen the error of his ways, and then he named names . . . he put a load of other people into Azkaban in his place. . . . He’s not very popular in there, I can tell you. And since he got out, from what I can tell, he’s been teaching the Dark Arts to every student who passes through that school of his. So watch out for the Durmstrang champion as well.” “Okay,” said Harry slowly. “But . . . are you saying'\n",
                  "\n",
                  "page_content='“Occlumency, Potter. The magical defense of the mind against external penetration. An obscure branch of magic, but a highly useful one.” Harry’s heart began to pump very fast indeed. Defense against external penetration? But he was not being possessed, they had all agreed on that. . . . “Why do I have to study Occlu — thing?” he blurted out. “Because the headmaster thinks it a good idea,” said Snape smoothly. “You will receive private lessons once a week, but you will not tell anybody what you are doing,'\n",
                  "\n",
                  "Question:\n",
                  "what is harry potter proffession?\n",
                  "\n",
                  "Response:\n",
                  " Harry Potter does not have a specified profession in the given context. However, it is mentioned that he is learning Occlumency, a branch of magic related to the defense of the mind against external penetration, from Snape once a week in private lessons. This suggests that Harry Potter may be studying or training to be a magician.\n",
                  "\n"
                ]
              }
            ]
          }
        },
        "e3df22c1cfc04d5ba6db63b17094d0f1": {
          "model_module": "@jupyter-widgets/base",
          "model_name": "LayoutModel",
          "model_module_version": "1.2.0",
          "state": {
            "_model_module": "@jupyter-widgets/base",
            "_model_module_version": "1.2.0",
            "_model_name": "LayoutModel",
            "_view_count": null,
            "_view_module": "@jupyter-widgets/base",
            "_view_module_version": "1.2.0",
            "_view_name": "LayoutView",
            "align_content": null,
            "align_items": null,
            "align_self": null,
            "border": null,
            "bottom": null,
            "display": null,
            "flex": null,
            "flex_flow": null,
            "grid_area": null,
            "grid_auto_columns": null,
            "grid_auto_flow": null,
            "grid_auto_rows": null,
            "grid_column": null,
            "grid_gap": null,
            "grid_row": null,
            "grid_template_areas": null,
            "grid_template_columns": null,
            "grid_template_rows": null,
            "height": null,
            "justify_content": null,
            "justify_items": null,
            "left": null,
            "margin": null,
            "max_height": null,
            "max_width": null,
            "min_height": null,
            "min_width": null,
            "object_fit": null,
            "object_position": null,
            "order": null,
            "overflow": null,
            "overflow_x": null,
            "overflow_y": null,
            "padding": null,
            "right": null,
            "top": null,
            "visibility": null,
            "width": null
          }
        }
      }
    }
  },
  "nbformat": 4,
  "nbformat_minor": 5
}